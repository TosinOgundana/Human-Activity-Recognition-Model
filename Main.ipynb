{
 "cells": [
  {
   "cell_type": "code",
   "execution_count": null,
   "metadata": {},
   "outputs": [],
   "source": [
    "#pip install imblearn\n",
    "#pip install mlxtend"
   ]
  },
  {
   "cell_type": "code",
   "execution_count": 28,
   "metadata": {
    "colab": {
     "base_uri": "https://localhost:8080/"
    },
    "executionInfo": {
     "elapsed": 2193,
     "status": "ok",
     "timestamp": 1621873929757,
     "user": {
      "displayName": "Emmanuel Orji",
      "photoUrl": "https://lh3.googleusercontent.com/a-/AOh14GiHodcbZ1prNPMGeqzrcKLfBSNzGtgLUz6EghK-XQ=s64",
      "userId": "04667333485712423080"
     },
     "user_tz": -60
    },
    "id": "NhHE64OwHQVt",
    "outputId": "63cde278-0292-41b3-aa1b-96a35eb24bd4"
   },
   "outputs": [],
   "source": [
    "from feature_module import Features\n",
    "from load_dataset_module import LoadDataset\n",
    "from models import Models\n",
    "from preprocessing import Preprocessing\n",
    "\n",
    "import numpy as np\n",
    "import pandas as pd\n",
    "from sklearn.model_selection import train_test_split\n",
    "from sklearn.linear_model import LogisticRegression\n",
    "import pickle\n",
    "from  sklearn.neighbors import KNeighborsClassifier\n",
    "from  sklearn.ensemble import RandomForestClassifier"
   ]
  },
  {
   "cell_type": "markdown",
   "metadata": {
    "id": "SdOs0u_29p0g"
   },
   "source": [
    "## Read Data"
   ]
  },
  {
   "cell_type": "code",
   "execution_count": 36,
   "metadata": {
    "colab": {
     "base_uri": "https://localhost:8080/",
     "height": 204
    },
    "executionInfo": {
     "elapsed": 1939,
     "status": "ok",
     "timestamp": 1621873934693,
     "user": {
      "displayName": "Emmanuel Orji",
      "photoUrl": "https://lh3.googleusercontent.com/a-/AOh14GiHodcbZ1prNPMGeqzrcKLfBSNzGtgLUz6EghK-XQ=s64",
      "userId": "04667333485712423080"
     },
     "user_tz": -60
    },
    "id": "Vgki15Q49p0h",
    "outputId": "3b73f2c7-8d01-45df-bc05-afc5ea47d943"
   },
   "outputs": [
    {
     "data": {
      "text/html": [
       "<div>\n",
       "<style scoped>\n",
       "    .dataframe tbody tr th:only-of-type {\n",
       "        vertical-align: middle;\n",
       "    }\n",
       "\n",
       "    .dataframe tbody tr th {\n",
       "        vertical-align: top;\n",
       "    }\n",
       "\n",
       "    .dataframe thead th {\n",
       "        text-align: right;\n",
       "    }\n",
       "</style>\n",
       "<table border=\"1\" class=\"dataframe\">\n",
       "  <thead>\n",
       "    <tr style=\"text-align: right;\">\n",
       "      <th></th>\n",
       "      <th>_id</th>\n",
       "      <th>orX</th>\n",
       "      <th>orY</th>\n",
       "      <th>orZ</th>\n",
       "      <th>rX</th>\n",
       "      <th>rY</th>\n",
       "      <th>rZ</th>\n",
       "      <th>accX</th>\n",
       "      <th>accY</th>\n",
       "      <th>accZ</th>\n",
       "      <th>gX</th>\n",
       "      <th>gY</th>\n",
       "      <th>gZ</th>\n",
       "      <th>mX</th>\n",
       "      <th>mY</th>\n",
       "      <th>mZ</th>\n",
       "      <th>lux</th>\n",
       "      <th>soundLevel</th>\n",
       "      <th>activity</th>\n",
       "    </tr>\n",
       "  </thead>\n",
       "  <tbody>\n",
       "    <tr>\n",
       "      <th>0</th>\n",
       "      <td>1</td>\n",
       "      <td>125</td>\n",
       "      <td>-17</td>\n",
       "      <td>2</td>\n",
       "      <td>0.070997</td>\n",
       "      <td>-0.131696</td>\n",
       "      <td>-0.877469</td>\n",
       "      <td>-0.038307</td>\n",
       "      <td>2.68151</td>\n",
       "      <td>8.65743</td>\n",
       "      <td>-0.041316</td>\n",
       "      <td>2.67655</td>\n",
       "      <td>8.64271</td>\n",
       "      <td>-31.2</td>\n",
       "      <td>-35.6</td>\n",
       "      <td>-37.6</td>\n",
       "      <td>5000</td>\n",
       "      <td>49.56</td>\n",
       "      <td>Sitting</td>\n",
       "    </tr>\n",
       "    <tr>\n",
       "      <th>1</th>\n",
       "      <td>2</td>\n",
       "      <td>126</td>\n",
       "      <td>-17</td>\n",
       "      <td>2</td>\n",
       "      <td>0.071486</td>\n",
       "      <td>-0.131480</td>\n",
       "      <td>-0.878024</td>\n",
       "      <td>-0.038307</td>\n",
       "      <td>2.68151</td>\n",
       "      <td>8.65743</td>\n",
       "      <td>-0.054196</td>\n",
       "      <td>2.67834</td>\n",
       "      <td>8.64654</td>\n",
       "      <td>-31.2</td>\n",
       "      <td>-36.0</td>\n",
       "      <td>-37.2</td>\n",
       "      <td>5000</td>\n",
       "      <td>53.38</td>\n",
       "      <td>Sitting</td>\n",
       "    </tr>\n",
       "    <tr>\n",
       "      <th>2</th>\n",
       "      <td>3</td>\n",
       "      <td>127</td>\n",
       "      <td>-17</td>\n",
       "      <td>2</td>\n",
       "      <td>0.071401</td>\n",
       "      <td>-0.131551</td>\n",
       "      <td>-0.878799</td>\n",
       "      <td>0.153229</td>\n",
       "      <td>2.68151</td>\n",
       "      <td>8.65743</td>\n",
       "      <td>-0.056867</td>\n",
       "      <td>2.68004</td>\n",
       "      <td>8.65088</td>\n",
       "      <td>-31.2</td>\n",
       "      <td>-36.0</td>\n",
       "      <td>-37.2</td>\n",
       "      <td>5000</td>\n",
       "      <td>53.38</td>\n",
       "      <td>Sitting</td>\n",
       "    </tr>\n",
       "    <tr>\n",
       "      <th>3</th>\n",
       "      <td>4</td>\n",
       "      <td>127</td>\n",
       "      <td>-17</td>\n",
       "      <td>2</td>\n",
       "      <td>0.071401</td>\n",
       "      <td>-0.131551</td>\n",
       "      <td>-0.878799</td>\n",
       "      <td>0.153229</td>\n",
       "      <td>2.68151</td>\n",
       "      <td>8.65743</td>\n",
       "      <td>-0.056867</td>\n",
       "      <td>2.68004</td>\n",
       "      <td>8.65088</td>\n",
       "      <td>-31.2</td>\n",
       "      <td>-36.0</td>\n",
       "      <td>-37.2</td>\n",
       "      <td>5000</td>\n",
       "      <td>49.53</td>\n",
       "      <td>Sitting</td>\n",
       "    </tr>\n",
       "    <tr>\n",
       "      <th>4</th>\n",
       "      <td>5</td>\n",
       "      <td>127</td>\n",
       "      <td>-17</td>\n",
       "      <td>2</td>\n",
       "      <td>0.070772</td>\n",
       "      <td>-0.131888</td>\n",
       "      <td>-0.879645</td>\n",
       "      <td>0.153229</td>\n",
       "      <td>2.68151</td>\n",
       "      <td>8.65743</td>\n",
       "      <td>-0.049128</td>\n",
       "      <td>2.68130</td>\n",
       "      <td>8.65458</td>\n",
       "      <td>-31.2</td>\n",
       "      <td>-35.6</td>\n",
       "      <td>-36.8</td>\n",
       "      <td>5000</td>\n",
       "      <td>49.53</td>\n",
       "      <td>Sitting</td>\n",
       "    </tr>\n",
       "  </tbody>\n",
       "</table>\n",
       "</div>"
      ],
      "text/plain": [
       "   _id  orX  orY  orZ        rX        rY        rZ      accX     accY  \\\n",
       "0    1  125  -17    2  0.070997 -0.131696 -0.877469 -0.038307  2.68151   \n",
       "1    2  126  -17    2  0.071486 -0.131480 -0.878024 -0.038307  2.68151   \n",
       "2    3  127  -17    2  0.071401 -0.131551 -0.878799  0.153229  2.68151   \n",
       "3    4  127  -17    2  0.071401 -0.131551 -0.878799  0.153229  2.68151   \n",
       "4    5  127  -17    2  0.070772 -0.131888 -0.879645  0.153229  2.68151   \n",
       "\n",
       "      accZ        gX       gY       gZ    mX    mY    mZ   lux  soundLevel  \\\n",
       "0  8.65743 -0.041316  2.67655  8.64271 -31.2 -35.6 -37.6  5000       49.56   \n",
       "1  8.65743 -0.054196  2.67834  8.64654 -31.2 -36.0 -37.2  5000       53.38   \n",
       "2  8.65743 -0.056867  2.68004  8.65088 -31.2 -36.0 -37.2  5000       53.38   \n",
       "3  8.65743 -0.056867  2.68004  8.65088 -31.2 -36.0 -37.2  5000       49.53   \n",
       "4  8.65743 -0.049128  2.68130  8.65458 -31.2 -35.6 -36.8  5000       49.53   \n",
       "\n",
       "  activity  \n",
       "0  Sitting  \n",
       "1  Sitting  \n",
       "2  Sitting  \n",
       "3  Sitting  \n",
       "4  Sitting  "
      ]
     },
     "execution_count": 36,
     "metadata": {},
     "output_type": "execute_result"
    }
   ],
   "source": [
    "file_path = 'activity_context_tracking_data.csv'\n",
    "load_Data = LoadDataset()\n",
    "data_df = load_Data.load_data(file_path)\n",
    "data_df.head() #returns the n numbers of rows "
   ]
  },
  {
   "cell_type": "code",
   "execution_count": 37,
   "metadata": {
    "colab": {
     "base_uri": "https://localhost:8080/",
     "height": 317
    },
    "executionInfo": {
     "elapsed": 534,
     "status": "ok",
     "timestamp": 1621873940323,
     "user": {
      "displayName": "Emmanuel Orji",
      "photoUrl": "https://lh3.googleusercontent.com/a-/AOh14GiHodcbZ1prNPMGeqzrcKLfBSNzGtgLUz6EghK-XQ=s64",
      "userId": "04667333485712423080"
     },
     "user_tz": -60
    },
    "id": "BQOPPAW69p0k",
    "outputId": "e0c9cd3a-399e-47d1-8fe1-4cdf984e7186"
   },
   "outputs": [
    {
     "data": {
      "text/html": [
       "<div>\n",
       "<style scoped>\n",
       "    .dataframe tbody tr th:only-of-type {\n",
       "        vertical-align: middle;\n",
       "    }\n",
       "\n",
       "    .dataframe tbody tr th {\n",
       "        vertical-align: top;\n",
       "    }\n",
       "\n",
       "    .dataframe thead th {\n",
       "        text-align: right;\n",
       "    }\n",
       "</style>\n",
       "<table border=\"1\" class=\"dataframe\">\n",
       "  <thead>\n",
       "    <tr style=\"text-align: right;\">\n",
       "      <th></th>\n",
       "      <th>_id</th>\n",
       "      <th>orX</th>\n",
       "      <th>orY</th>\n",
       "      <th>orZ</th>\n",
       "      <th>rX</th>\n",
       "      <th>rY</th>\n",
       "      <th>rZ</th>\n",
       "      <th>accX</th>\n",
       "      <th>accY</th>\n",
       "      <th>accZ</th>\n",
       "      <th>gX</th>\n",
       "      <th>gY</th>\n",
       "      <th>gZ</th>\n",
       "      <th>mX</th>\n",
       "      <th>mY</th>\n",
       "      <th>mZ</th>\n",
       "      <th>lux</th>\n",
       "      <th>soundLevel</th>\n",
       "    </tr>\n",
       "  </thead>\n",
       "  <tbody>\n",
       "    <tr>\n",
       "      <th>count</th>\n",
       "      <td>205520.000000</td>\n",
       "      <td>205520.000000</td>\n",
       "      <td>205520.000000</td>\n",
       "      <td>205520.000000</td>\n",
       "      <td>205520.000000</td>\n",
       "      <td>205520.000000</td>\n",
       "      <td>205520.000000</td>\n",
       "      <td>205520.000000</td>\n",
       "      <td>205520.000000</td>\n",
       "      <td>205520.000000</td>\n",
       "      <td>205520.000000</td>\n",
       "      <td>205520.000000</td>\n",
       "      <td>205520.000000</td>\n",
       "      <td>205520.000000</td>\n",
       "      <td>205520.000000</td>\n",
       "      <td>205520.000000</td>\n",
       "      <td>205520.000000</td>\n",
       "      <td>205520.000000</td>\n",
       "    </tr>\n",
       "    <tr>\n",
       "      <th>mean</th>\n",
       "      <td>102760.500000</td>\n",
       "      <td>189.455094</td>\n",
       "      <td>2.726547</td>\n",
       "      <td>0.414120</td>\n",
       "      <td>-0.017598</td>\n",
       "      <td>-0.011672</td>\n",
       "      <td>0.038061</td>\n",
       "      <td>0.095601</td>\n",
       "      <td>-0.973535</td>\n",
       "      <td>9.644523</td>\n",
       "      <td>0.102566</td>\n",
       "      <td>-0.977011</td>\n",
       "      <td>9.650622</td>\n",
       "      <td>0.548546</td>\n",
       "      <td>-9.644151</td>\n",
       "      <td>-29.450924</td>\n",
       "      <td>5842.296297</td>\n",
       "      <td>53.946546</td>\n",
       "    </tr>\n",
       "    <tr>\n",
       "      <th>std</th>\n",
       "      <td>59328.657999</td>\n",
       "      <td>80.359907</td>\n",
       "      <td>22.446067</td>\n",
       "      <td>12.438395</td>\n",
       "      <td>0.148930</td>\n",
       "      <td>0.113509</td>\n",
       "      <td>0.791781</td>\n",
       "      <td>1.948063</td>\n",
       "      <td>2.484468</td>\n",
       "      <td>2.638467</td>\n",
       "      <td>1.818980</td>\n",
       "      <td>2.335549</td>\n",
       "      <td>2.106011</td>\n",
       "      <td>20.807783</td>\n",
       "      <td>20.344238</td>\n",
       "      <td>17.340151</td>\n",
       "      <td>4521.725944</td>\n",
       "      <td>8.100255</td>\n",
       "    </tr>\n",
       "    <tr>\n",
       "      <th>min</th>\n",
       "      <td>1.000000</td>\n",
       "      <td>0.000000</td>\n",
       "      <td>-178.000000</td>\n",
       "      <td>-86.000000</td>\n",
       "      <td>-0.712191</td>\n",
       "      <td>-0.556955</td>\n",
       "      <td>-0.999912</td>\n",
       "      <td>-19.536700</td>\n",
       "      <td>-14.480100</td>\n",
       "      <td>-5.975930</td>\n",
       "      <td>-13.657700</td>\n",
       "      <td>-7.986420</td>\n",
       "      <td>-3.828100</td>\n",
       "      <td>-139.200000</td>\n",
       "      <td>-70.000000</td>\n",
       "      <td>-107.200000</td>\n",
       "      <td>0.000000</td>\n",
       "      <td>-26.570000</td>\n",
       "    </tr>\n",
       "    <tr>\n",
       "      <th>25%</th>\n",
       "      <td>51380.750000</td>\n",
       "      <td>139.000000</td>\n",
       "      <td>-3.000000</td>\n",
       "      <td>-3.000000</td>\n",
       "      <td>-0.094141</td>\n",
       "      <td>-0.100048</td>\n",
       "      <td>-0.874552</td>\n",
       "      <td>-0.497994</td>\n",
       "      <td>-3.485960</td>\n",
       "      <td>8.887280</td>\n",
       "      <td>-0.457989</td>\n",
       "      <td>-3.217810</td>\n",
       "      <td>9.417110</td>\n",
       "      <td>-15.200000</td>\n",
       "      <td>-26.000000</td>\n",
       "      <td>-41.200000</td>\n",
       "      <td>1000.000000</td>\n",
       "      <td>51.350000</td>\n",
       "    </tr>\n",
       "    <tr>\n",
       "      <th>50%</th>\n",
       "      <td>102760.500000</td>\n",
       "      <td>186.000000</td>\n",
       "      <td>6.000000</td>\n",
       "      <td>-1.000000</td>\n",
       "      <td>-0.027313</td>\n",
       "      <td>-0.011470</td>\n",
       "      <td>0.491602</td>\n",
       "      <td>0.076615</td>\n",
       "      <td>-1.072600</td>\n",
       "      <td>10.381300</td>\n",
       "      <td>0.076614</td>\n",
       "      <td>-1.034300</td>\n",
       "      <td>10.327500</td>\n",
       "      <td>5.600000</td>\n",
       "      <td>-7.600000</td>\n",
       "      <td>-32.400000</td>\n",
       "      <td>5000.000000</td>\n",
       "      <td>54.850000</td>\n",
       "    </tr>\n",
       "    <tr>\n",
       "      <th>75%</th>\n",
       "      <td>154140.250000</td>\n",
       "      <td>268.000000</td>\n",
       "      <td>18.000000</td>\n",
       "      <td>3.000000</td>\n",
       "      <td>0.018465</td>\n",
       "      <td>0.050689</td>\n",
       "      <td>0.789546</td>\n",
       "      <td>0.497994</td>\n",
       "      <td>0.612916</td>\n",
       "      <td>10.649400</td>\n",
       "      <td>0.383102</td>\n",
       "      <td>0.446432</td>\n",
       "      <td>10.649400</td>\n",
       "      <td>15.600000</td>\n",
       "      <td>6.000000</td>\n",
       "      <td>-14.000000</td>\n",
       "      <td>10000.000000</td>\n",
       "      <td>57.940000</td>\n",
       "    </tr>\n",
       "    <tr>\n",
       "      <th>max</th>\n",
       "      <td>205520.000000</td>\n",
       "      <td>359.000000</td>\n",
       "      <td>169.000000</td>\n",
       "      <td>88.000000</td>\n",
       "      <td>0.804160</td>\n",
       "      <td>0.723168</td>\n",
       "      <td>0.999904</td>\n",
       "      <td>15.859200</td>\n",
       "      <td>19.575000</td>\n",
       "      <td>19.575000</td>\n",
       "      <td>13.658400</td>\n",
       "      <td>9.895530</td>\n",
       "      <td>14.492300</td>\n",
       "      <td>78.800000</td>\n",
       "      <td>158.400000</td>\n",
       "      <td>77.200000</td>\n",
       "      <td>15000.000000</td>\n",
       "      <td>70.620000</td>\n",
       "    </tr>\n",
       "  </tbody>\n",
       "</table>\n",
       "</div>"
      ],
      "text/plain": [
       "                 _id            orX            orY            orZ  \\\n",
       "count  205520.000000  205520.000000  205520.000000  205520.000000   \n",
       "mean   102760.500000     189.455094       2.726547       0.414120   \n",
       "std     59328.657999      80.359907      22.446067      12.438395   \n",
       "min         1.000000       0.000000    -178.000000     -86.000000   \n",
       "25%     51380.750000     139.000000      -3.000000      -3.000000   \n",
       "50%    102760.500000     186.000000       6.000000      -1.000000   \n",
       "75%    154140.250000     268.000000      18.000000       3.000000   \n",
       "max    205520.000000     359.000000     169.000000      88.000000   \n",
       "\n",
       "                  rX             rY             rZ           accX  \\\n",
       "count  205520.000000  205520.000000  205520.000000  205520.000000   \n",
       "mean       -0.017598      -0.011672       0.038061       0.095601   \n",
       "std         0.148930       0.113509       0.791781       1.948063   \n",
       "min        -0.712191      -0.556955      -0.999912     -19.536700   \n",
       "25%        -0.094141      -0.100048      -0.874552      -0.497994   \n",
       "50%        -0.027313      -0.011470       0.491602       0.076615   \n",
       "75%         0.018465       0.050689       0.789546       0.497994   \n",
       "max         0.804160       0.723168       0.999904      15.859200   \n",
       "\n",
       "                accY           accZ             gX             gY  \\\n",
       "count  205520.000000  205520.000000  205520.000000  205520.000000   \n",
       "mean       -0.973535       9.644523       0.102566      -0.977011   \n",
       "std         2.484468       2.638467       1.818980       2.335549   \n",
       "min       -14.480100      -5.975930     -13.657700      -7.986420   \n",
       "25%        -3.485960       8.887280      -0.457989      -3.217810   \n",
       "50%        -1.072600      10.381300       0.076614      -1.034300   \n",
       "75%         0.612916      10.649400       0.383102       0.446432   \n",
       "max        19.575000      19.575000      13.658400       9.895530   \n",
       "\n",
       "                  gZ             mX             mY             mZ  \\\n",
       "count  205520.000000  205520.000000  205520.000000  205520.000000   \n",
       "mean        9.650622       0.548546      -9.644151     -29.450924   \n",
       "std         2.106011      20.807783      20.344238      17.340151   \n",
       "min        -3.828100    -139.200000     -70.000000    -107.200000   \n",
       "25%         9.417110     -15.200000     -26.000000     -41.200000   \n",
       "50%        10.327500       5.600000      -7.600000     -32.400000   \n",
       "75%        10.649400      15.600000       6.000000     -14.000000   \n",
       "max        14.492300      78.800000     158.400000      77.200000   \n",
       "\n",
       "                 lux     soundLevel  \n",
       "count  205520.000000  205520.000000  \n",
       "mean     5842.296297      53.946546  \n",
       "std      4521.725944       8.100255  \n",
       "min         0.000000     -26.570000  \n",
       "25%      1000.000000      51.350000  \n",
       "50%      5000.000000      54.850000  \n",
       "75%     10000.000000      57.940000  \n",
       "max     15000.000000      70.620000  "
      ]
     },
     "execution_count": 37,
     "metadata": {},
     "output_type": "execute_result"
    }
   ],
   "source": [
    "data_df.describe() #Generates descriptive statistics"
   ]
  },
  {
   "cell_type": "code",
   "execution_count": 38,
   "metadata": {
    "colab": {
     "base_uri": "https://localhost:8080/"
    },
    "executionInfo": {
     "elapsed": 7,
     "status": "ok",
     "timestamp": 1621873942657,
     "user": {
      "displayName": "Emmanuel Orji",
      "photoUrl": "https://lh3.googleusercontent.com/a-/AOh14GiHodcbZ1prNPMGeqzrcKLfBSNzGtgLUz6EghK-XQ=s64",
      "userId": "04667333485712423080"
     },
     "user_tz": -60
    },
    "id": "ByUtP6LH9p0l",
    "outputId": "822d094a-2c2d-40a2-f201-9225663e8178",
    "scrolled": true
   },
   "outputs": [
    {
     "name": "stdout",
     "output_type": "stream",
     "text": [
      "<class 'pandas.core.frame.DataFrame'>\n",
      "RangeIndex: 205520 entries, 0 to 205519\n",
      "Data columns (total 19 columns):\n",
      " #   Column      Non-Null Count   Dtype  \n",
      "---  ------      --------------   -----  \n",
      " 0   _id         205520 non-null  int64  \n",
      " 1   orX         205520 non-null  int64  \n",
      " 2   orY         205520 non-null  int64  \n",
      " 3   orZ         205520 non-null  int64  \n",
      " 4   rX          205520 non-null  float64\n",
      " 5   rY          205520 non-null  float64\n",
      " 6   rZ          205520 non-null  float64\n",
      " 7   accX        205520 non-null  float64\n",
      " 8   accY        205520 non-null  float64\n",
      " 9   accZ        205520 non-null  float64\n",
      " 10  gX          205520 non-null  float64\n",
      " 11  gY          205520 non-null  float64\n",
      " 12  gZ          205520 non-null  float64\n",
      " 13  mX          205520 non-null  float64\n",
      " 14  mY          205520 non-null  float64\n",
      " 15  mZ          205520 non-null  float64\n",
      " 16  lux         205520 non-null  int64  \n",
      " 17  soundLevel  205520 non-null  float64\n",
      " 18  activity    205520 non-null  object \n",
      "dtypes: float64(13), int64(5), object(1)\n",
      "memory usage: 29.8+ MB\n"
     ]
    }
   ],
   "source": [
    "data_df.info()"
   ]
  },
  {
   "cell_type": "markdown",
   "metadata": {
    "id": "zAYJIL7l9p0m"
   },
   "source": [
    "## Preprocessing"
   ]
  },
  {
   "cell_type": "code",
   "execution_count": 39,
   "metadata": {
    "executionInfo": {
     "elapsed": 536,
     "status": "ok",
     "timestamp": 1621873946089,
     "user": {
      "displayName": "Emmanuel Orji",
      "photoUrl": "https://lh3.googleusercontent.com/a-/AOh14GiHodcbZ1prNPMGeqzrcKLfBSNzGtgLUz6EghK-XQ=s64",
      "userId": "04667333485712423080"
     },
     "user_tz": -60
    },
    "id": "w9qoOka59p0m"
   },
   "outputs": [],
   "source": [
    "data_df.drop('_id', axis=1, inplace=True) #drops specified\n",
    "\n",
    "X = data_df.drop('activity', axis=1)\n",
    "y = data_df['activity']"
   ]
  },
  {
   "cell_type": "code",
   "execution_count": 34,
   "metadata": {
    "colab": {
     "base_uri": "https://localhost:8080/"
    },
    "executionInfo": {
     "elapsed": 586,
     "status": "ok",
     "timestamp": 1621873948349,
     "user": {
      "displayName": "Emmanuel Orji",
      "photoUrl": "https://lh3.googleusercontent.com/a-/AOh14GiHodcbZ1prNPMGeqzrcKLfBSNzGtgLUz6EghK-XQ=s64",
      "userId": "04667333485712423080"
     },
     "user_tz": -60
    },
    "id": "lTSZa60Vt1LT",
    "outputId": "c7835176-aa19-4bc3-e250-e510d7585b20"
   },
   "outputs": [
    {
     "data": {
      "text/plain": [
       "Sitting               75733\n",
       "Walking               64507\n",
       "Lying                 25440\n",
       "Standing              19920\n",
       "ClimbingUpStairs       5520\n",
       "Jogging                5160\n",
       "ClimbingDownStairs     3720\n",
       "AscendingStairs        1800\n",
       "Running                1200\n",
       "MountainDescending      840\n",
       "Driving                 840\n",
       "DescendingStairs        720\n",
       "MountainAscending       120\n",
       "Name: activity, dtype: int64"
      ]
     },
     "execution_count": 34,
     "metadata": {},
     "output_type": "execute_result"
    }
   ],
   "source": [
    "y.value_counts() #counts of unique rows"
   ]
  },
  {
   "cell_type": "markdown",
   "metadata": {
    "id": "Tq2RyeIqWBgZ"
   },
   "source": [
    "### Data Segmentation"
   ]
  },
  {
   "cell_type": "code",
   "execution_count": 40,
   "metadata": {
    "id": "p-fu8WUJW2w7"
   },
   "outputs": [],
   "source": [
    "preprocessing = Preprocessing()"
   ]
  },
  {
   "cell_type": "code",
   "execution_count": 41,
   "metadata": {
    "colab": {
     "base_uri": "https://localhost:8080/"
    },
    "executionInfo": {
     "elapsed": 18587,
     "status": "ok",
     "timestamp": 1621854805166,
     "user": {
      "displayName": "Emmanuel Orji",
      "photoUrl": "https://lh3.googleusercontent.com/a-/AOh14GiHodcbZ1prNPMGeqzrcKLfBSNzGtgLUz6EghK-XQ=s64",
      "userId": "04667333485712423080"
     },
     "user_tz": -60
    },
    "id": "pGjj-T6AWAZ-",
    "outputId": "a43a1569-aaae-4b12-df75-8753f9f727a3"
   },
   "outputs": [
    {
     "name": "stdout",
     "output_type": "stream",
     "text": [
      "Done\n",
      "(4566, 90, 17) (4566,)\n"
     ]
    }
   ],
   "source": [
    "segments, segments_label = preprocessing.segment_data(X, y, window_size=90, overlap=0.5)\n",
    "print(segments.shape, segments_label.shape)"
   ]
  },
  {
   "cell_type": "code",
   "execution_count": 42,
   "metadata": {
    "executionInfo": {
     "elapsed": 45439,
     "status": "ok",
     "timestamp": 1621854850585,
     "user": {
      "displayName": "Emmanuel Orji",
      "photoUrl": "https://lh3.googleusercontent.com/a-/AOh14GiHodcbZ1prNPMGeqzrcKLfBSNzGtgLUz6EghK-XQ=s64",
      "userId": "04667333485712423080"
     },
     "user_tz": -60
    },
    "id": "4fztXxWwZ76Q"
   },
   "outputs": [],
   "source": [
    "#Extract features from each segment and replace each segment with the extracted features\n",
    "X_segmented = np.array([])\n",
    "for index in range(len(segments)):\n",
    "    segment = LoadDataset().get_features(pd.DataFrame(segments[index]))\n",
    "    #segment = np.array([list(segment[k]) for k in segment]).T\n",
    "    X_segmented = np.vstack([X_segmented, segment]) if X_segmented.size else segment"
   ]
  },
  {
   "cell_type": "code",
   "execution_count": 43,
   "metadata": {
    "executionInfo": {
     "elapsed": 132,
     "status": "ok",
     "timestamp": 1621854850595,
     "user": {
      "displayName": "Emmanuel Orji",
      "photoUrl": "https://lh3.googleusercontent.com/a-/AOh14GiHodcbZ1prNPMGeqzrcKLfBSNzGtgLUz6EghK-XQ=s64",
      "userId": "04667333485712423080"
     },
     "user_tz": -60
    },
    "id": "H4Rff6pW1DZl"
   },
   "outputs": [],
   "source": [
    "y_segmented = segments_label"
   ]
  },
  {
   "cell_type": "code",
   "execution_count": 44,
   "metadata": {
    "colab": {
     "base_uri": "https://localhost:8080/"
    },
    "executionInfo": {
     "elapsed": 128,
     "status": "ok",
     "timestamp": 1621854850597,
     "user": {
      "displayName": "Emmanuel Orji",
      "photoUrl": "https://lh3.googleusercontent.com/a-/AOh14GiHodcbZ1prNPMGeqzrcKLfBSNzGtgLUz6EghK-XQ=s64",
      "userId": "04667333485712423080"
     },
     "user_tz": -60
    },
    "id": "RIlQnh_qx9qd",
    "outputId": "bf62d4cf-8842-4abd-8735-45c9e73b5356"
   },
   "outputs": [
    {
     "name": "stdout",
     "output_type": "stream",
     "text": [
      "(4566, 272) (4566,)\n"
     ]
    }
   ],
   "source": [
    "print(X_segmented.shape, segments_label.shape)"
   ]
  },
  {
   "cell_type": "code",
   "execution_count": 45,
   "metadata": {
    "executionInfo": {
     "elapsed": 73,
     "status": "ok",
     "timestamp": 1621854850599,
     "user": {
      "displayName": "Emmanuel Orji",
      "photoUrl": "https://lh3.googleusercontent.com/a-/AOh14GiHodcbZ1prNPMGeqzrcKLfBSNzGtgLUz6EghK-XQ=s64",
      "userId": "04667333485712423080"
     },
     "user_tz": -60
    },
    "id": "OI1m2j26yz8r"
   },
   "outputs": [],
   "source": [
    "X_train, X_test, y_train, y_test = train_test_split(X_segmented, y_segmented, test_size=0.3, random_state=2)"
   ]
  },
  {
   "cell_type": "code",
   "execution_count": 46,
   "metadata": {
    "colab": {
     "base_uri": "https://localhost:8080/"
    },
    "executionInfo": {
     "elapsed": 57,
     "status": "ok",
     "timestamp": 1621854850605,
     "user": {
      "displayName": "Emmanuel Orji",
      "photoUrl": "https://lh3.googleusercontent.com/a-/AOh14GiHodcbZ1prNPMGeqzrcKLfBSNzGtgLUz6EghK-XQ=s64",
      "userId": "04667333485712423080"
     },
     "user_tz": -60
    },
    "id": "3eDpNNqx9p0n",
    "outputId": "6e74cb9b-ad3c-462e-8637-20e76d271dbf"
   },
   "outputs": [
    {
     "name": "stdout",
     "output_type": "stream",
     "text": [
      "(3196, 272) (1370, 272) (3196,) (1370,)\n"
     ]
    }
   ],
   "source": [
    "print(X_train.shape, X_test.shape, y_train.shape, y_test.shape)"
   ]
  },
  {
   "cell_type": "code",
   "execution_count": null,
   "metadata": {
    "executionInfo": {
     "elapsed": 54,
     "status": "ok",
     "timestamp": 1621854850607,
     "user": {
      "displayName": "Emmanuel Orji",
      "photoUrl": "https://lh3.googleusercontent.com/a-/AOh14GiHodcbZ1prNPMGeqzrcKLfBSNzGtgLUz6EghK-XQ=s64",
      "userId": "04667333485712423080"
     },
     "user_tz": -60
    },
    "id": "1c-dzlDIX51g"
   },
   "outputs": [],
   "source": []
  },
  {
   "cell_type": "code",
   "execution_count": 47,
   "metadata": {
    "colab": {
     "base_uri": "https://localhost:8080/",
     "height": 466
    },
    "executionInfo": {
     "elapsed": 54,
     "status": "ok",
     "timestamp": 1621854850609,
     "user": {
      "displayName": "Emmanuel Orji",
      "photoUrl": "https://lh3.googleusercontent.com/a-/AOh14GiHodcbZ1prNPMGeqzrcKLfBSNzGtgLUz6EghK-XQ=s64",
      "userId": "04667333485712423080"
     },
     "user_tz": -60
    },
    "id": "StflzDiq9p0n",
    "outputId": "0b4fc0fb-ab7e-4121-ff60-bcb5395a3654"
   },
   "outputs": [
    {
     "data": {
      "image/png": "[encoded data removed]",
      "text/plain": [
       "<Figure size 720x360 with 1 Axes>"
      ]
     },
     "metadata": {
      "needs_background": "light"
     },
     "output_type": "display_data"
    }
   ],
   "source": [
    "# Plot class distribution\n",
    "#preprocessing = Preprocessing()\n",
    "preprocessing.plot_target_distribution(y_segmented)"
   ]
  },
  {
   "cell_type": "code",
   "execution_count": 48,
   "metadata": {
    "executionInfo": {
     "elapsed": 48,
     "status": "ok",
     "timestamp": 1621854850611,
     "user": {
      "displayName": "Emmanuel Orji",
      "photoUrl": "https://lh3.googleusercontent.com/a-/AOh14GiHodcbZ1prNPMGeqzrcKLfBSNzGtgLUz6EghK-XQ=s64",
      "userId": "04667333485712423080"
     },
     "user_tz": -60
    },
    "id": "_reKtH0t9p0o"
   },
   "outputs": [],
   "source": [
    "#Data Normalization using MinMaxScaler\n",
    "X_train_scaled, X_test_scaled = preprocessing.min_max_scale(X_train, X_test)"
   ]
  },
  {
   "cell_type": "code",
   "execution_count": 49,
   "metadata": {
    "colab": {
     "base_uri": "https://localhost:8080/"
    },
    "executionInfo": {
     "elapsed": 50,
     "status": "ok",
     "timestamp": 1621854850613,
     "user": {
      "displayName": "Emmanuel Orji",
      "photoUrl": "https://lh3.googleusercontent.com/a-/AOh14GiHodcbZ1prNPMGeqzrcKLfBSNzGtgLUz6EghK-XQ=s64",
      "userId": "04667333485712423080"
     },
     "user_tz": -60
    },
    "id": "PaEr87BhPPSO",
    "outputId": "ef72f1dd-e728-4199-dfef-55dd1012ccf1"
   },
   "outputs": [
    {
     "name": "stdout",
     "output_type": "stream",
     "text": [
      "(3196, 272) (1370, 272)\n"
     ]
    }
   ],
   "source": [
    "print(X_train_scaled.shape, X_test_scaled.shape)"
   ]
  },
  {
   "cell_type": "code",
   "execution_count": 50,
   "metadata": {
    "colab": {
     "base_uri": "https://localhost:8080/",
     "height": 346
    },
    "executionInfo": {
     "elapsed": 648,
     "status": "ok",
     "timestamp": 1621854851216,
     "user": {
      "displayName": "Emmanuel Orji",
      "photoUrl": "https://lh3.googleusercontent.com/a-/AOh14GiHodcbZ1prNPMGeqzrcKLfBSNzGtgLUz6EghK-XQ=s64",
      "userId": "04667333485712423080"
     },
     "user_tz": -60
    },
    "id": "dM_5iqM89p0p",
    "outputId": "3b7407b2-c62e-4d5d-e17f-f7b4c51933f2"
   },
   "outputs": [
    {
     "data": {
      "text/html": [
       "<div>\n",
       "<style scoped>\n",
       "    .dataframe tbody tr th:only-of-type {\n",
       "        vertical-align: middle;\n",
       "    }\n",
       "\n",
       "    .dataframe tbody tr th {\n",
       "        vertical-align: top;\n",
       "    }\n",
       "\n",
       "    .dataframe thead th {\n",
       "        text-align: right;\n",
       "    }\n",
       "</style>\n",
       "<table border=\"1\" class=\"dataframe\">\n",
       "  <thead>\n",
       "    <tr style=\"text-align: right;\">\n",
       "      <th></th>\n",
       "      <th>0</th>\n",
       "      <th>1</th>\n",
       "      <th>2</th>\n",
       "      <th>3</th>\n",
       "      <th>4</th>\n",
       "      <th>5</th>\n",
       "      <th>6</th>\n",
       "      <th>7</th>\n",
       "      <th>8</th>\n",
       "      <th>9</th>\n",
       "      <th>...</th>\n",
       "      <th>262</th>\n",
       "      <th>263</th>\n",
       "      <th>264</th>\n",
       "      <th>265</th>\n",
       "      <th>266</th>\n",
       "      <th>267</th>\n",
       "      <th>268</th>\n",
       "      <th>269</th>\n",
       "      <th>270</th>\n",
       "      <th>271</th>\n",
       "    </tr>\n",
       "  </thead>\n",
       "  <tbody>\n",
       "    <tr>\n",
       "      <th>count</th>\n",
       "      <td>3196.000000</td>\n",
       "      <td>3196.000000</td>\n",
       "      <td>3196.000000</td>\n",
       "      <td>3196.000000</td>\n",
       "      <td>3196.000000</td>\n",
       "      <td>3196.000000</td>\n",
       "      <td>3196.0</td>\n",
       "      <td>3196.000000</td>\n",
       "      <td>3196.000000</td>\n",
       "      <td>3196.000000</td>\n",
       "      <td>...</td>\n",
       "      <td>3196.000000</td>\n",
       "      <td>3196.000000</td>\n",
       "      <td>3196.000000</td>\n",
       "      <td>3196.000000</td>\n",
       "      <td>3196.000000</td>\n",
       "      <td>3196.000000</td>\n",
       "      <td>3196.000000</td>\n",
       "      <td>3196.000000</td>\n",
       "      <td>3196.000000</td>\n",
       "      <td>3196.000000</td>\n",
       "    </tr>\n",
       "    <tr>\n",
       "      <th>mean</th>\n",
       "      <td>0.028814</td>\n",
       "      <td>0.536610</td>\n",
       "      <td>0.557563</td>\n",
       "      <td>0.076598</td>\n",
       "      <td>0.565367</td>\n",
       "      <td>0.028814</td>\n",
       "      <td>0.0</td>\n",
       "      <td>0.006259</td>\n",
       "      <td>0.543841</td>\n",
       "      <td>0.523158</td>\n",
       "      <td>...</td>\n",
       "      <td>0.006121</td>\n",
       "      <td>0.213477</td>\n",
       "      <td>0.553703</td>\n",
       "      <td>0.781491</td>\n",
       "      <td>0.003972</td>\n",
       "      <td>0.597546</td>\n",
       "      <td>0.906994</td>\n",
       "      <td>0.004833</td>\n",
       "      <td>0.523774</td>\n",
       "      <td>0.004632</td>\n",
       "    </tr>\n",
       "    <tr>\n",
       "      <th>std</th>\n",
       "      <td>0.110091</td>\n",
       "      <td>0.221478</td>\n",
       "      <td>0.219248</td>\n",
       "      <td>0.151504</td>\n",
       "      <td>0.216938</td>\n",
       "      <td>0.110091</td>\n",
       "      <td>0.0</td>\n",
       "      <td>0.037755</td>\n",
       "      <td>0.065575</td>\n",
       "      <td>0.070057</td>\n",
       "      <td>...</td>\n",
       "      <td>0.037201</td>\n",
       "      <td>0.018992</td>\n",
       "      <td>0.025316</td>\n",
       "      <td>0.021465</td>\n",
       "      <td>0.023939</td>\n",
       "      <td>0.021961</td>\n",
       "      <td>0.024171</td>\n",
       "      <td>0.032643</td>\n",
       "      <td>0.019867</td>\n",
       "      <td>0.027879</td>\n",
       "    </tr>\n",
       "    <tr>\n",
       "      <th>min</th>\n",
       "      <td>0.000000</td>\n",
       "      <td>0.000000</td>\n",
       "      <td>0.000000</td>\n",
       "      <td>0.000000</td>\n",
       "      <td>0.000000</td>\n",
       "      <td>0.000000</td>\n",
       "      <td>0.0</td>\n",
       "      <td>0.000000</td>\n",
       "      <td>0.000000</td>\n",
       "      <td>0.000000</td>\n",
       "      <td>...</td>\n",
       "      <td>0.000000</td>\n",
       "      <td>0.000000</td>\n",
       "      <td>0.000000</td>\n",
       "      <td>0.000000</td>\n",
       "      <td>0.000000</td>\n",
       "      <td>0.000000</td>\n",
       "      <td>0.000000</td>\n",
       "      <td>0.000000</td>\n",
       "      <td>0.000000</td>\n",
       "      <td>0.000000</td>\n",
       "    </tr>\n",
       "    <tr>\n",
       "      <th>25%</th>\n",
       "      <td>0.000066</td>\n",
       "      <td>0.394366</td>\n",
       "      <td>0.419104</td>\n",
       "      <td>0.008148</td>\n",
       "      <td>0.429219</td>\n",
       "      <td>0.000066</td>\n",
       "      <td>0.0</td>\n",
       "      <td>0.000000</td>\n",
       "      <td>0.526154</td>\n",
       "      <td>0.505801</td>\n",
       "      <td>...</td>\n",
       "      <td>0.000023</td>\n",
       "      <td>0.213573</td>\n",
       "      <td>0.553753</td>\n",
       "      <td>0.781449</td>\n",
       "      <td>0.000126</td>\n",
       "      <td>0.598561</td>\n",
       "      <td>0.907457</td>\n",
       "      <td>0.000000</td>\n",
       "      <td>0.524169</td>\n",
       "      <td>0.000277</td>\n",
       "    </tr>\n",
       "    <tr>\n",
       "      <th>50%</th>\n",
       "      <td>0.000536</td>\n",
       "      <td>0.526761</td>\n",
       "      <td>0.543766</td>\n",
       "      <td>0.023162</td>\n",
       "      <td>0.555736</td>\n",
       "      <td>0.000536</td>\n",
       "      <td>0.0</td>\n",
       "      <td>0.000271</td>\n",
       "      <td>0.550769</td>\n",
       "      <td>0.531817</td>\n",
       "      <td>...</td>\n",
       "      <td>0.000205</td>\n",
       "      <td>0.213739</td>\n",
       "      <td>0.553753</td>\n",
       "      <td>0.781803</td>\n",
       "      <td>0.000260</td>\n",
       "      <td>0.598561</td>\n",
       "      <td>0.908178</td>\n",
       "      <td>0.000000</td>\n",
       "      <td>0.524169</td>\n",
       "      <td>0.001131</td>\n",
       "    </tr>\n",
       "    <tr>\n",
       "      <th>75%</th>\n",
       "      <td>0.004633</td>\n",
       "      <td>0.766197</td>\n",
       "      <td>0.768114</td>\n",
       "      <td>0.068067</td>\n",
       "      <td>0.781326</td>\n",
       "      <td>0.004633</td>\n",
       "      <td>0.0</td>\n",
       "      <td>0.005610</td>\n",
       "      <td>0.587692</td>\n",
       "      <td>0.566883</td>\n",
       "      <td>...</td>\n",
       "      <td>0.001378</td>\n",
       "      <td>0.213777</td>\n",
       "      <td>0.553753</td>\n",
       "      <td>0.782215</td>\n",
       "      <td>0.001130</td>\n",
       "      <td>0.598561</td>\n",
       "      <td>0.908804</td>\n",
       "      <td>0.000000</td>\n",
       "      <td>0.524169</td>\n",
       "      <td>0.003906</td>\n",
       "    </tr>\n",
       "    <tr>\n",
       "      <th>max</th>\n",
       "      <td>1.000000</td>\n",
       "      <td>1.000000</td>\n",
       "      <td>1.000000</td>\n",
       "      <td>1.000000</td>\n",
       "      <td>1.000000</td>\n",
       "      <td>1.000000</td>\n",
       "      <td>0.0</td>\n",
       "      <td>1.000000</td>\n",
       "      <td>1.000000</td>\n",
       "      <td>1.000000</td>\n",
       "      <td>...</td>\n",
       "      <td>1.000000</td>\n",
       "      <td>1.000000</td>\n",
       "      <td>1.000000</td>\n",
       "      <td>1.000000</td>\n",
       "      <td>1.000000</td>\n",
       "      <td>1.000000</td>\n",
       "      <td>1.000000</td>\n",
       "      <td>1.000000</td>\n",
       "      <td>1.000000</td>\n",
       "      <td>1.000000</td>\n",
       "    </tr>\n",
       "  </tbody>\n",
       "</table>\n",
       "<p>8 rows × 272 columns</p>\n",
       "</div>"
      ],
      "text/plain": [
       "               0            1            2            3            4    \\\n",
       "count  3196.000000  3196.000000  3196.000000  3196.000000  3196.000000   \n",
       "mean      0.028814     0.536610     0.557563     0.076598     0.565367   \n",
       "std       0.110091     0.221478     0.219248     0.151504     0.216938   \n",
       "min       0.000000     0.000000     0.000000     0.000000     0.000000   \n",
       "25%       0.000066     0.394366     0.419104     0.008148     0.429219   \n",
       "50%       0.000536     0.526761     0.543766     0.023162     0.555736   \n",
       "75%       0.004633     0.766197     0.768114     0.068067     0.781326   \n",
       "max       1.000000     1.000000     1.000000     1.000000     1.000000   \n",
       "\n",
       "               5       6            7            8            9    ...  \\\n",
       "count  3196.000000  3196.0  3196.000000  3196.000000  3196.000000  ...   \n",
       "mean      0.028814     0.0     0.006259     0.543841     0.523158  ...   \n",
       "std       0.110091     0.0     0.037755     0.065575     0.070057  ...   \n",
       "min       0.000000     0.0     0.000000     0.000000     0.000000  ...   \n",
       "25%       0.000066     0.0     0.000000     0.526154     0.505801  ...   \n",
       "50%       0.000536     0.0     0.000271     0.550769     0.531817  ...   \n",
       "75%       0.004633     0.0     0.005610     0.587692     0.566883  ...   \n",
       "max       1.000000     0.0     1.000000     1.000000     1.000000  ...   \n",
       "\n",
       "               262          263          264          265          266  \\\n",
       "count  3196.000000  3196.000000  3196.000000  3196.000000  3196.000000   \n",
       "mean      0.006121     0.213477     0.553703     0.781491     0.003972   \n",
       "std       0.037201     0.018992     0.025316     0.021465     0.023939   \n",
       "min       0.000000     0.000000     0.000000     0.000000     0.000000   \n",
       "25%       0.000023     0.213573     0.553753     0.781449     0.000126   \n",
       "50%       0.000205     0.213739     0.553753     0.781803     0.000260   \n",
       "75%       0.001378     0.213777     0.553753     0.782215     0.001130   \n",
       "max       1.000000     1.000000     1.000000     1.000000     1.000000   \n",
       "\n",
       "               267          268          269          270          271  \n",
       "count  3196.000000  3196.000000  3196.000000  3196.000000  3196.000000  \n",
       "mean      0.597546     0.906994     0.004833     0.523774     0.004632  \n",
       "std       0.021961     0.024171     0.032643     0.019867     0.027879  \n",
       "min       0.000000     0.000000     0.000000     0.000000     0.000000  \n",
       "25%       0.598561     0.907457     0.000000     0.524169     0.000277  \n",
       "50%       0.598561     0.908178     0.000000     0.524169     0.001131  \n",
       "75%       0.598561     0.908804     0.000000     0.524169     0.003906  \n",
       "max       1.000000     1.000000     1.000000     1.000000     1.000000  \n",
       "\n",
       "[8 rows x 272 columns]"
      ]
     },
     "execution_count": 50,
     "metadata": {},
     "output_type": "execute_result"
    }
   ],
   "source": [
    "pd.DataFrame(X_train_scaled).describe()"
   ]
  },
  {
   "cell_type": "code",
   "execution_count": 51,
   "metadata": {
    "colab": {
     "base_uri": "https://localhost:8080/"
    },
    "executionInfo": {
     "elapsed": 23,
     "status": "ok",
     "timestamp": 1621854851218,
     "user": {
      "displayName": "Emmanuel Orji",
      "photoUrl": "https://lh3.googleusercontent.com/a-/AOh14GiHodcbZ1prNPMGeqzrcKLfBSNzGtgLUz6EghK-XQ=s64",
      "userId": "04667333485712423080"
     },
     "user_tz": -60
    },
    "id": "08TEl_XH9p0p",
    "outputId": "dd3eabbd-1f59-478c-8803-05bee029fd86"
   },
   "outputs": [
    {
     "data": {
      "text/plain": [
       "Sitting               1196\n",
       "Walking                991\n",
       "Lying                  393\n",
       "Standing               306\n",
       "ClimbingUpStairs        96\n",
       "Jogging                 75\n",
       "ClimbingDownStairs      55\n",
       "AscendingStairs         26\n",
       "Running                 18\n",
       "MountainDescending      15\n",
       "Driving                 12\n",
       "DescendingStairs        11\n",
       "MountainAscending        2\n",
       "Name: 0, dtype: int64"
      ]
     },
     "execution_count": 51,
     "metadata": {},
     "output_type": "execute_result"
    }
   ],
   "source": [
    "  pd.DataFrame(y_train)[0].value_counts()"
   ]
  },
  {
   "cell_type": "code",
   "execution_count": 52,
   "metadata": {
    "colab": {
     "base_uri": "https://localhost:8080/",
     "height": 1000
    },
    "executionInfo": {
     "elapsed": 1395,
     "status": "ok",
     "timestamp": 1621854852596,
     "user": {
      "displayName": "Emmanuel Orji",
      "photoUrl": "https://lh3.googleusercontent.com/a-/AOh14GiHodcbZ1prNPMGeqzrcKLfBSNzGtgLUz6EghK-XQ=s64",
      "userId": "04667333485712423080"
     },
     "user_tz": -60
    },
    "id": "Vj0FYuKn9p0q",
    "outputId": "21c9f26d-431e-4027-aa7b-cd482898f150"
   },
   "outputs": [
    {
     "name": "stderr",
     "output_type": "stream",
     "text": [
      "/opt/anaconda3/lib/python3.7/site-packages/imblearn/utils/_validation.py:300: UserWarning: After over-sampling, the number of samples (2000) in class AscendingStairs will be larger than the number of samples in the majority class (class #Sitting -> 1196)\n",
      "  f\"After over-sampling, the number of samples ({n_samples})\"\n",
      "/opt/anaconda3/lib/python3.7/site-packages/imblearn/utils/_validation.py:300: UserWarning: After over-sampling, the number of samples (2000) in class ClimbingDownStairs will be larger than the number of samples in the majority class (class #Sitting -> 1196)\n",
      "  f\"After over-sampling, the number of samples ({n_samples})\"\n",
      "/opt/anaconda3/lib/python3.7/site-packages/imblearn/utils/_validation.py:300: UserWarning: After over-sampling, the number of samples (2000) in class ClimbingUpStairs will be larger than the number of samples in the majority class (class #Sitting -> 1196)\n",
      "  f\"After over-sampling, the number of samples ({n_samples})\"\n",
      "/opt/anaconda3/lib/python3.7/site-packages/imblearn/utils/_validation.py:300: UserWarning: After over-sampling, the number of samples (2000) in class DescendingStairs will be larger than the number of samples in the majority class (class #Sitting -> 1196)\n",
      "  f\"After over-sampling, the number of samples ({n_samples})\"\n",
      "/opt/anaconda3/lib/python3.7/site-packages/imblearn/utils/_validation.py:300: UserWarning: After over-sampling, the number of samples (2000) in class Driving will be larger than the number of samples in the majority class (class #Sitting -> 1196)\n",
      "  f\"After over-sampling, the number of samples ({n_samples})\"\n",
      "/opt/anaconda3/lib/python3.7/site-packages/imblearn/utils/_validation.py:300: UserWarning: After over-sampling, the number of samples (2000) in class Jogging will be larger than the number of samples in the majority class (class #Sitting -> 1196)\n",
      "  f\"After over-sampling, the number of samples ({n_samples})\"\n",
      "/opt/anaconda3/lib/python3.7/site-packages/imblearn/utils/_validation.py:300: UserWarning: After over-sampling, the number of samples (2000) in class Lying will be larger than the number of samples in the majority class (class #Sitting -> 1196)\n",
      "  f\"After over-sampling, the number of samples ({n_samples})\"\n",
      "/opt/anaconda3/lib/python3.7/site-packages/imblearn/utils/_validation.py:300: UserWarning: After over-sampling, the number of samples (2000) in class MountainAscending will be larger than the number of samples in the majority class (class #Sitting -> 1196)\n",
      "  f\"After over-sampling, the number of samples ({n_samples})\"\n",
      "/opt/anaconda3/lib/python3.7/site-packages/imblearn/utils/_validation.py:300: UserWarning: After over-sampling, the number of samples (2000) in class MountainDescending will be larger than the number of samples in the majority class (class #Sitting -> 1196)\n",
      "  f\"After over-sampling, the number of samples ({n_samples})\"\n",
      "/opt/anaconda3/lib/python3.7/site-packages/imblearn/utils/_validation.py:300: UserWarning: After over-sampling, the number of samples (2000) in class Running will be larger than the number of samples in the majority class (class #Sitting -> 1196)\n",
      "  f\"After over-sampling, the number of samples ({n_samples})\"\n",
      "/opt/anaconda3/lib/python3.7/site-packages/imblearn/utils/_validation.py:300: UserWarning: After over-sampling, the number of samples (2000) in class Sitting will be larger than the number of samples in the majority class (class #Sitting -> 1196)\n",
      "  f\"After over-sampling, the number of samples ({n_samples})\"\n",
      "/opt/anaconda3/lib/python3.7/site-packages/imblearn/utils/_validation.py:300: UserWarning: After over-sampling, the number of samples (2000) in class Standing will be larger than the number of samples in the majority class (class #Sitting -> 1196)\n",
      "  f\"After over-sampling, the number of samples ({n_samples})\"\n",
      "/opt/anaconda3/lib/python3.7/site-packages/imblearn/utils/_validation.py:300: UserWarning: After over-sampling, the number of samples (2000) in class Walking will be larger than the number of samples in the majority class (class #Sitting -> 1196)\n",
      "  f\"After over-sampling, the number of samples ({n_samples})\"\n"
     ]
    },
    {
     "data": {
      "image/png": "[encoded data removed]",
      "text/plain": [
       "<Figure size 720x360 with 1 Axes>"
      ]
     },
     "metadata": {
      "needs_background": "light"
     },
     "output_type": "display_data"
    }
   ],
   "source": [
    "#Using imblearn to handle class imbalance\n",
    "#SMOTE oversamples minority class and RandomUnderSampling undersamples majority class \n",
    "X_train_sampled, y_train_sampled = preprocessing.imbalance_handle(X_train_scaled, y_train)\n",
    "preprocessing.plot_target_distribution(y_train_sampled)"
   ]
  },
  {
   "cell_type": "code",
   "execution_count": 53,
   "metadata": {
    "colab": {
     "base_uri": "https://localhost:8080/"
    },
    "executionInfo": {
     "elapsed": 26,
     "status": "ok",
     "timestamp": 1621854852600,
     "user": {
      "displayName": "Emmanuel Orji",
      "photoUrl": "https://lh3.googleusercontent.com/a-/AOh14GiHodcbZ1prNPMGeqzrcKLfBSNzGtgLUz6EghK-XQ=s64",
      "userId": "04667333485712423080"
     },
     "user_tz": -60
    },
    "id": "aHPIv1BH9p0q",
    "outputId": "decc1c48-c9ed-453c-e684-3a7a0a3ed35c"
   },
   "outputs": [
    {
     "data": {
      "text/plain": [
       "DescendingStairs      1000\n",
       "Running               1000\n",
       "Sitting               1000\n",
       "MountainAscending     1000\n",
       "AscendingStairs       1000\n",
       "Standing              1000\n",
       "Walking               1000\n",
       "Driving               1000\n",
       "ClimbingDownStairs    1000\n",
       "MountainDescending    1000\n",
       "ClimbingUpStairs      1000\n",
       "Lying                 1000\n",
       "Jogging               1000\n",
       "Name: 0, dtype: int64"
      ]
     },
     "execution_count": 53,
     "metadata": {},
     "output_type": "execute_result"
    }
   ],
   "source": [
    "pd.DataFrame(y_train_sampled)[0].value_counts()"
   ]
  },
  {
   "cell_type": "code",
   "execution_count": 54,
   "metadata": {
    "colab": {
     "base_uri": "https://localhost:8080/"
    },
    "executionInfo": {
     "elapsed": 22,
     "status": "ok",
     "timestamp": 1621854852603,
     "user": {
      "displayName": "Emmanuel Orji",
      "photoUrl": "https://lh3.googleusercontent.com/a-/AOh14GiHodcbZ1prNPMGeqzrcKLfBSNzGtgLUz6EghK-XQ=s64",
      "userId": "04667333485712423080"
     },
     "user_tz": -60
    },
    "id": "UnJwxxtRPPSS",
    "outputId": "d04d012d-b8cf-4d5d-935c-ef1ed777d734"
   },
   "outputs": [
    {
     "name": "stdout",
     "output_type": "stream",
     "text": [
      "(13000, 272) (13000,)\n"
     ]
    }
   ],
   "source": [
    "print(X_train_sampled.shape, y_train_sampled.shape)"
   ]
  },
  {
   "cell_type": "markdown",
   "metadata": {
    "id": "vhq420aa9p0s"
   },
   "source": [
    "## Modelling"
   ]
  },
  {
   "cell_type": "markdown",
   "metadata": {
    "id": "_PVNEpZC9p0t"
   },
   "source": [
    "### Logistic Regression"
   ]
  },
  {
   "cell_type": "code",
   "execution_count": 55,
   "metadata": {
    "executionInfo": {
     "elapsed": 30,
     "status": "ok",
     "timestamp": 1621854852616,
     "user": {
      "displayName": "Emmanuel Orji",
      "photoUrl": "https://lh3.googleusercontent.com/a-/AOh14GiHodcbZ1prNPMGeqzrcKLfBSNzGtgLUz6EghK-XQ=s64",
      "userId": "04667333485712423080"
     },
     "user_tz": -60
    },
    "id": "iRBGaH9b9p0t"
   },
   "outputs": [],
   "source": [
    "model = Models()"
   ]
  },
  {
   "cell_type": "code",
   "execution_count": 56,
   "metadata": {
    "colab": {
     "base_uri": "https://localhost:8080/"
    },
    "executionInfo": {
     "elapsed": 20342,
     "status": "ok",
     "timestamp": 1621854872929,
     "user": {
      "displayName": "Emmanuel Orji",
      "photoUrl": "https://lh3.googleusercontent.com/a-/AOh14GiHodcbZ1prNPMGeqzrcKLfBSNzGtgLUz6EghK-XQ=s64",
      "userId": "04667333485712423080"
     },
     "user_tz": -60
    },
    "id": "ngegbPDV9p0u",
    "outputId": "95f17be5-d3f6-47cb-d2bf-8106427b82a8"
   },
   "outputs": [
    {
     "name": "stderr",
     "output_type": "stream",
     "text": [
      "/opt/anaconda3/lib/python3.7/site-packages/sklearn/linear_model/_sag.py:329: ConvergenceWarning: The max_iter was reached which means the coef_ did not converge\n",
      "  \"the coef_ did not converge\", ConvergenceWarning)\n"
     ]
    },
    {
     "data": {
      "text/plain": [
       "LogisticRegression(solver='saga')"
      ]
     },
     "execution_count": 56,
     "metadata": {},
     "output_type": "execute_result"
    }
   ],
   "source": [
    "#Training with the scaled and sampled data \n",
    "log_reg_model1 = LogisticRegression(solver='saga', penalty='l2')\n",
    "log_reg_model1.fit(X_train_sampled, y_train_sampled) "
   ]
  },
  {
   "cell_type": "code",
   "execution_count": 57,
   "metadata": {
    "colab": {
     "base_uri": "https://localhost:8080/",
     "height": 1000
    },
    "executionInfo": {
     "elapsed": 6556,
     "status": "ok",
     "timestamp": 1621854879439,
     "user": {
      "displayName": "Emmanuel Orji",
      "photoUrl": "https://lh3.googleusercontent.com/a-/AOh14GiHodcbZ1prNPMGeqzrcKLfBSNzGtgLUz6EghK-XQ=s64",
      "userId": "04667333485712423080"
     },
     "user_tz": -60
    },
    "id": "Cy1S17JT9p0v",
    "outputId": "25e840f5-6950-4bc5-ee02-c36299b20cb5"
   },
   "outputs": [
    {
     "name": "stdout",
     "output_type": "stream",
     "text": [
      "Press 1 to save Model object and parameters to result_dict, any other key to cancel.\n",
      "Previous save with same model name is overwritten: 1\n",
      "\n",
      "--------------------------------Train Set-----------------------------------------\n",
      "                    precision    recall  f1-score   support\n",
      "\n",
      "   AscendingStairs       0.91      0.98      0.94      1000\n",
      "ClimbingDownStairs       0.93      0.93      0.93      1000\n",
      "  ClimbingUpStairs       0.89      0.91      0.90      1000\n",
      "  DescendingStairs       0.87      1.00      0.93      1000\n",
      "           Driving       1.00      1.00      1.00      1000\n",
      "           Jogging       0.99      0.99      0.99      1000\n",
      "             Lying       0.97      0.97      0.97      1000\n",
      " MountainAscending       0.99      1.00      1.00      1000\n",
      "MountainDescending       0.99      1.00      1.00      1000\n",
      "           Running       1.00      1.00      1.00      1000\n",
      "           Sitting       0.95      0.85      0.90      1000\n",
      "          Standing       0.94      0.77      0.85      1000\n",
      "           Walking       0.87      0.85      0.86      1000\n",
      "\n",
      "          accuracy                           0.94     13000\n",
      "         macro avg       0.94      0.94      0.94     13000\n",
      "      weighted avg       0.94      0.94      0.94     13000\n",
      "\n",
      "\n",
      "\n",
      "                        Train Confusion Matrix\n"
     ]
    },
    {
     "data": {
      "image/png": "[encoded data removed]",
      "text/plain": [
       "<Figure size 1440x720 with 1 Axes>"
      ]
     },
     "metadata": {
      "needs_background": "light"
     },
     "output_type": "display_data"
    },
    {
     "name": "stdout",
     "output_type": "stream",
     "text": [
      "\n",
      "--------------------------------Test Set------------------------------------------\n",
      "                    precision    recall  f1-score   support\n",
      "\n",
      "   AscendingStairs       0.18      0.62      0.28        13\n",
      "ClimbingDownStairs       0.39      0.72      0.51        29\n",
      "  ClimbingUpStairs       0.41      0.66      0.51        29\n",
      "  DescendingStairs       0.13      0.80      0.22         5\n",
      "           Driving       0.62      0.71      0.67         7\n",
      "           Jogging       0.93      0.95      0.94        40\n",
      "             Lying       0.91      0.96      0.94       173\n",
      " MountainAscending       0.00      0.00      0.00         0\n",
      "MountainDescending       0.18      0.50      0.27         4\n",
      "           Running       0.80      1.00      0.89         8\n",
      "           Sitting       0.99      0.85      0.91       486\n",
      "          Standing       0.75      0.73      0.74       138\n",
      "           Walking       0.96      0.85      0.90       438\n",
      "\n",
      "          accuracy                           0.84      1370\n",
      "         macro avg       0.56      0.72      0.60      1370\n",
      "      weighted avg       0.90      0.84      0.87      1370\n",
      "\n",
      "\n",
      "\n",
      "                          Test Confusion Matrix\n"
     ]
    },
    {
     "name": "stderr",
     "output_type": "stream",
     "text": [
      "/opt/anaconda3/lib/python3.7/site-packages/sklearn/metrics/_classification.py:1248: UndefinedMetricWarning: Recall and F-score are ill-defined and being set to 0.0 in labels with no true samples. Use `zero_division` parameter to control this behavior.\n",
      "  _warn_prf(average, modifier, msg_start, len(result))\n",
      "/opt/anaconda3/lib/python3.7/site-packages/sklearn/metrics/_classification.py:1248: UndefinedMetricWarning: Recall and F-score are ill-defined and being set to 0.0 in labels with no true samples. Use `zero_division` parameter to control this behavior.\n",
      "  _warn_prf(average, modifier, msg_start, len(result))\n",
      "/opt/anaconda3/lib/python3.7/site-packages/sklearn/metrics/_classification.py:1248: UndefinedMetricWarning: Recall and F-score are ill-defined and being set to 0.0 in labels with no true samples. Use `zero_division` parameter to control this behavior.\n",
      "  _warn_prf(average, modifier, msg_start, len(result))\n",
      "/opt/anaconda3/lib/python3.7/site-packages/mlxtend/plotting/plot_confusion_matrix.py:76: RuntimeWarning: invalid value encountered in true_divide\n",
      "  normed_conf_mat = conf_mat.astype('float') / total_samples\n"
     ]
    },
    {
     "data": {
      "image/png": "[encoded data removed]",
      "text/plain": [
       "<Figure size 1440x720 with 1 Axes>"
      ]
     },
     "metadata": {
      "needs_background": "light"
     },
     "output_type": "display_data"
    }
   ],
   "source": [
    "model.result(log_reg_model1, 'Log. Reg. 1', X_train_sampled, X_test_scaled,\n",
    "             y_train_sampled, y_test)"
   ]
  },
  {
   "cell_type": "code",
   "execution_count": 58,
   "metadata": {
    "colab": {
     "base_uri": "https://localhost:8080/"
    },
    "executionInfo": {
     "elapsed": 5223,
     "status": "ok",
     "timestamp": 1621854884649,
     "user": {
      "displayName": "Emmanuel Orji",
      "photoUrl": "https://lh3.googleusercontent.com/a-/AOh14GiHodcbZ1prNPMGeqzrcKLfBSNzGtgLUz6EghK-XQ=s64",
      "userId": "04667333485712423080"
     },
     "user_tz": -60
    },
    "id": "bGGh9N-Y9p0v",
    "outputId": "d8e8f264-c1d5-4990-8df2-d6f7c52bb63a"
   },
   "outputs": [
    {
     "name": "stderr",
     "output_type": "stream",
     "text": [
      "/opt/anaconda3/lib/python3.7/site-packages/sklearn/linear_model/_sag.py:329: ConvergenceWarning: The max_iter was reached which means the coef_ did not converge\n",
      "  \"the coef_ did not converge\", ConvergenceWarning)\n"
     ]
    },
    {
     "data": {
      "text/plain": [
       "LogisticRegression(solver='saga')"
      ]
     },
     "execution_count": 58,
     "metadata": {},
     "output_type": "execute_result"
    }
   ],
   "source": [
    "#Training with the scaled data, without sampling\n",
    "log_reg_model2 =  LogisticRegression(solver='saga', penalty='l2')\n",
    "log_reg_model2.fit(X_train_scaled, y_train)"
   ]
  },
  {
   "cell_type": "code",
   "execution_count": 59,
   "metadata": {
    "colab": {
     "base_uri": "https://localhost:8080/",
     "height": 1000
    },
    "executionInfo": {
     "elapsed": 37418,
     "status": "ok",
     "timestamp": 1621854922024,
     "user": {
      "displayName": "Emmanuel Orji",
      "photoUrl": "https://lh3.googleusercontent.com/a-/AOh14GiHodcbZ1prNPMGeqzrcKLfBSNzGtgLUz6EghK-XQ=s64",
      "userId": "04667333485712423080"
     },
     "user_tz": -60
    },
    "id": "HWmDwb2u9p0w",
    "outputId": "2aba776e-cb64-41c1-90a8-afe7796345ad"
   },
   "outputs": [
    {
     "name": "stdout",
     "output_type": "stream",
     "text": [
      "Press 1 to save Model object and parameters to result_dict, any other key to cancel.\n",
      "Previous save with same model name is overwritten: 1\n",
      "\n",
      "--------------------------------Train Set-----------------------------------------\n",
      "                    precision    recall  f1-score   support\n",
      "\n",
      "   AscendingStairs       0.83      0.19      0.31        26\n",
      "ClimbingDownStairs       0.78      0.51      0.62        55\n",
      "  ClimbingUpStairs       0.68      0.52      0.59        96\n",
      "  DescendingStairs       0.00      0.00      0.00        11\n",
      "           Driving       1.00      0.33      0.50        12\n",
      "           Jogging       0.94      0.79      0.86        75\n",
      "             Lying       0.95      0.93      0.94       393\n",
      " MountainAscending       0.00      0.00      0.00         2\n",
      "MountainDescending       0.83      0.33      0.48        15\n",
      "           Running       1.00      0.78      0.88        18\n",
      "           Sitting       0.90      0.94      0.92      1196\n",
      "          Standing       0.74      0.75      0.74       306\n",
      "           Walking       0.92      0.98      0.95       991\n",
      "\n",
      "          accuracy                           0.89      3196\n",
      "         macro avg       0.74      0.54      0.60      3196\n",
      "      weighted avg       0.89      0.89      0.89      3196\n",
      "\n",
      "\n",
      "\n",
      "                        Train Confusion Matrix\n"
     ]
    },
    {
     "name": "stderr",
     "output_type": "stream",
     "text": [
      "/opt/anaconda3/lib/python3.7/site-packages/sklearn/metrics/_classification.py:1248: UndefinedMetricWarning: Precision and F-score are ill-defined and being set to 0.0 in labels with no predicted samples. Use `zero_division` parameter to control this behavior.\n",
      "  _warn_prf(average, modifier, msg_start, len(result))\n",
      "/opt/anaconda3/lib/python3.7/site-packages/sklearn/metrics/_classification.py:1248: UndefinedMetricWarning: Precision and F-score are ill-defined and being set to 0.0 in labels with no predicted samples. Use `zero_division` parameter to control this behavior.\n",
      "  _warn_prf(average, modifier, msg_start, len(result))\n",
      "/opt/anaconda3/lib/python3.7/site-packages/sklearn/metrics/_classification.py:1248: UndefinedMetricWarning: Precision and F-score are ill-defined and being set to 0.0 in labels with no predicted samples. Use `zero_division` parameter to control this behavior.\n",
      "  _warn_prf(average, modifier, msg_start, len(result))\n"
     ]
    },
    {
     "data": {
      "image/png": "[encoded data removed]",
      "text/plain": [
       "<Figure size 1440x720 with 1 Axes>"
      ]
     },
     "metadata": {
      "needs_background": "light"
     },
     "output_type": "display_data"
    },
    {
     "name": "stdout",
     "output_type": "stream",
     "text": [
      "\n",
      "--------------------------------Test Set------------------------------------------\n",
      "                    precision    recall  f1-score   support\n",
      "\n",
      "   AscendingStairs       0.00      0.00      0.00        13\n",
      "ClimbingDownStairs       0.67      0.28      0.39        29\n",
      "  ClimbingUpStairs       0.62      0.45      0.52        29\n",
      "  DescendingStairs       0.00      0.00      0.00         5\n",
      "           Driving       1.00      0.29      0.44         7\n",
      "           Jogging       1.00      0.80      0.89        40\n",
      "             Lying       0.94      0.97      0.96       173\n",
      "MountainDescending       1.00      0.50      0.67         4\n",
      "           Running       0.88      0.88      0.88         8\n",
      "           Sitting       0.90      0.95      0.92       486\n",
      "          Standing       0.76      0.69      0.72       138\n",
      "           Walking       0.90      0.98      0.94       438\n",
      "\n",
      "          accuracy                           0.89      1370\n",
      "         macro avg       0.72      0.56      0.61      1370\n",
      "      weighted avg       0.87      0.89      0.88      1370\n",
      "\n",
      "\n",
      "\n",
      "                          Test Confusion Matrix\n"
     ]
    },
    {
     "name": "stderr",
     "output_type": "stream",
     "text": [
      "/opt/anaconda3/lib/python3.7/site-packages/sklearn/metrics/_classification.py:1248: UndefinedMetricWarning: Precision and F-score are ill-defined and being set to 0.0 in labels with no predicted samples. Use `zero_division` parameter to control this behavior.\n",
      "  _warn_prf(average, modifier, msg_start, len(result))\n",
      "/opt/anaconda3/lib/python3.7/site-packages/sklearn/metrics/_classification.py:1248: UndefinedMetricWarning: Precision and F-score are ill-defined and being set to 0.0 in labels with no predicted samples. Use `zero_division` parameter to control this behavior.\n",
      "  _warn_prf(average, modifier, msg_start, len(result))\n",
      "/opt/anaconda3/lib/python3.7/site-packages/sklearn/metrics/_classification.py:1248: UndefinedMetricWarning: Precision and F-score are ill-defined and being set to 0.0 in labels with no predicted samples. Use `zero_division` parameter to control this behavior.\n",
      "  _warn_prf(average, modifier, msg_start, len(result))\n"
     ]
    },
    {
     "data": {
      "image/png": "[encoded data removed]",
      "text/plain": [
       "<Figure size 1440x720 with 1 Axes>"
      ]
     },
     "metadata": {
      "needs_background": "light"
     },
     "output_type": "display_data"
    }
   ],
   "source": [
    "model.result(log_reg_model2, 'Log. Reg. 2', X_train_scaled, X_test_scaled, y_train, y_test)"
   ]
  },
  {
   "cell_type": "code",
   "execution_count": 60,
   "metadata": {
    "colab": {
     "base_uri": "https://localhost:8080/"
    },
    "executionInfo": {
     "elapsed": 4542,
     "status": "ok",
     "timestamp": 1621854926550,
     "user": {
      "displayName": "Emmanuel Orji",
      "photoUrl": "https://lh3.googleusercontent.com/a-/AOh14GiHodcbZ1prNPMGeqzrcKLfBSNzGtgLUz6EghK-XQ=s64",
      "userId": "04667333485712423080"
     },
     "user_tz": -60
    },
    "id": "nigdoSuv9p0w",
    "outputId": "08fef51d-1da6-4973-f59a-11ceb763a326"
   },
   "outputs": [
    {
     "name": "stderr",
     "output_type": "stream",
     "text": [
      "/opt/anaconda3/lib/python3.7/site-packages/sklearn/linear_model/_sag.py:329: ConvergenceWarning: The max_iter was reached which means the coef_ did not converge\n",
      "  \"the coef_ did not converge\", ConvergenceWarning)\n"
     ]
    },
    {
     "data": {
      "text/plain": [
       "LogisticRegression(solver='saga')"
      ]
     },
     "execution_count": 60,
     "metadata": {},
     "output_type": "execute_result"
    }
   ],
   "source": [
    "#Training with the unprocessed data\n",
    "log_reg_model3 = LogisticRegression(solver='saga', penalty='l2')\n",
    "log_reg_model3.fit(X_train, y_train) #Scaled but Without the new feature\n"
   ]
  },
  {
   "cell_type": "markdown",
   "metadata": {
    "colab": {
     "base_uri": "https://localhost:8080/",
     "height": 1000
    },
    "executionInfo": {
     "elapsed": 4765,
     "status": "ok",
     "timestamp": 1621854931211,
     "user": {
      "displayName": "Emmanuel Orji",
      "photoUrl": "https://lh3.googleusercontent.com/a-/AOh14GiHodcbZ1prNPMGeqzrcKLfBSNzGtgLUz6EghK-XQ=s64",
      "userId": "04667333485712423080"
     },
     "user_tz": -60
    },
    "id": "Ii5LCSX-9p0x",
    "outputId": "5b06928d-14e7-4ddd-b8aa-b8252b611ec8"
   },
   "source": [
    "# model.result(log_reg_model3, 'Log. Reg. 3', X_train, X_test, y_train, y_test)"
   ]
  },
  {
   "cell_type": "markdown",
   "metadata": {
    "id": "4RJKoNPl9p0x"
   },
   "source": [
    "### Random Forest Classifier"
   ]
  },
  {
   "cell_type": "code",
   "execution_count": 61,
   "metadata": {
    "colab": {
     "base_uri": "https://localhost:8080/"
    },
    "executionInfo": {
     "elapsed": 12755,
     "status": "ok",
     "timestamp": 1621854943956,
     "user": {
      "displayName": "Emmanuel Orji",
      "photoUrl": "https://lh3.googleusercontent.com/a-/AOh14GiHodcbZ1prNPMGeqzrcKLfBSNzGtgLUz6EghK-XQ=s64",
      "userId": "04667333485712423080"
     },
     "user_tz": -60
    },
    "id": "JIxrIN-C9p0y",
    "outputId": "9a24ee12-d49d-4bc5-b569-3dd26da8bc18"
   },
   "outputs": [
    {
     "data": {
      "text/plain": [
       "RandomForestClassifier()"
      ]
     },
     "execution_count": 61,
     "metadata": {},
     "output_type": "execute_result"
    }
   ],
   "source": [
    "#Scaled but Without the new feature, just the scaled and sampled data \n",
    "rf_model1 =  RandomForestClassifier()\n",
    "rf_model1.fit(X_train_sampled, y_train_sampled)"
   ]
  },
  {
   "cell_type": "code",
   "execution_count": 62,
   "metadata": {
    "colab": {
     "base_uri": "https://localhost:8080/",
     "height": 1000
    },
    "executionInfo": {
     "elapsed": 4835,
     "status": "ok",
     "timestamp": 1621854948739,
     "user": {
      "displayName": "Emmanuel Orji",
      "photoUrl": "https://lh3.googleusercontent.com/a-/AOh14GiHodcbZ1prNPMGeqzrcKLfBSNzGtgLUz6EghK-XQ=s64",
      "userId": "04667333485712423080"
     },
     "user_tz": -60
    },
    "id": "Fb3oBdDK9p0z",
    "outputId": "4de3f637-f6c6-4cee-9bdc-dc96426f50fb"
   },
   "outputs": [
    {
     "name": "stdout",
     "output_type": "stream",
     "text": [
      "Press 1 to save Model object and parameters to result_dict, any other key to cancel.\n",
      "Previous save with same model name is overwritten: 1\n",
      "\n",
      "--------------------------------Train Set-----------------------------------------\n",
      "                    precision    recall  f1-score   support\n",
      "\n",
      "   AscendingStairs       1.00      1.00      1.00      1000\n",
      "ClimbingDownStairs       1.00      1.00      1.00      1000\n",
      "  ClimbingUpStairs       1.00      1.00      1.00      1000\n",
      "  DescendingStairs       1.00      1.00      1.00      1000\n",
      "           Driving       1.00      1.00      1.00      1000\n",
      "           Jogging       1.00      1.00      1.00      1000\n",
      "             Lying       1.00      1.00      1.00      1000\n",
      " MountainAscending       1.00      1.00      1.00      1000\n",
      "MountainDescending       1.00      1.00      1.00      1000\n",
      "           Running       1.00      1.00      1.00      1000\n",
      "           Sitting       1.00      1.00      1.00      1000\n",
      "          Standing       1.00      1.00      1.00      1000\n",
      "           Walking       1.00      1.00      1.00      1000\n",
      "\n",
      "          accuracy                           1.00     13000\n",
      "         macro avg       1.00      1.00      1.00     13000\n",
      "      weighted avg       1.00      1.00      1.00     13000\n",
      "\n",
      "\n",
      "\n",
      "                        Train Confusion Matrix\n"
     ]
    },
    {
     "data": {
      "image/png": "[encoded data removed]",
      "text/plain": [
       "<Figure size 1440x720 with 1 Axes>"
      ]
     },
     "metadata": {
      "needs_background": "light"
     },
     "output_type": "display_data"
    },
    {
     "name": "stdout",
     "output_type": "stream",
     "text": [
      "\n",
      "--------------------------------Test Set------------------------------------------\n",
      "                    precision    recall  f1-score   support\n",
      "\n",
      "   AscendingStairs       1.00      0.46      0.63        13\n",
      "ClimbingDownStairs       0.96      0.83      0.89        29\n",
      "  ClimbingUpStairs       0.85      0.79      0.82        29\n",
      "  DescendingStairs       1.00      0.60      0.75         5\n",
      "           Driving       0.75      0.43      0.55         7\n",
      "           Jogging       0.95      1.00      0.98        40\n",
      "             Lying       0.98      0.99      0.98       173\n",
      "MountainDescending       1.00      0.75      0.86         4\n",
      "           Running       1.00      1.00      1.00         8\n",
      "           Sitting       0.99      0.94      0.96       486\n",
      "          Standing       0.83      0.96      0.89       138\n",
      "           Walking       0.95      0.99      0.97       438\n",
      "\n",
      "          accuracy                           0.95      1370\n",
      "         macro avg       0.94      0.81      0.86      1370\n",
      "      weighted avg       0.95      0.95      0.95      1370\n",
      "\n",
      "\n",
      "\n",
      "                          Test Confusion Matrix\n"
     ]
    },
    {
     "data": {
      "image/png": "[encoded data removed]",
      "text/plain": [
       "<Figure size 1440x720 with 1 Axes>"
      ]
     },
     "metadata": {
      "needs_background": "light"
     },
     "output_type": "display_data"
    }
   ],
   "source": [
    "model.result(rf_model1, 'Random Forest 1', X_train_sampled, X_test_scaled, y_train_sampled, y_test)"
   ]
  },
  {
   "cell_type": "code",
   "execution_count": 63,
   "metadata": {
    "colab": {
     "base_uri": "https://localhost:8080/"
    },
    "executionInfo": {
     "elapsed": 3733,
     "status": "ok",
     "timestamp": 1621854952462,
     "user": {
      "displayName": "Emmanuel Orji",
      "photoUrl": "https://lh3.googleusercontent.com/a-/AOh14GiHodcbZ1prNPMGeqzrcKLfBSNzGtgLUz6EghK-XQ=s64",
      "userId": "04667333485712423080"
     },
     "user_tz": -60
    },
    "id": "L0JeRZmY9p0z",
    "outputId": "c5814a51-eab4-40d3-8821-199edbaf41a7"
   },
   "outputs": [
    {
     "data": {
      "text/plain": [
       "RandomForestClassifier()"
      ]
     },
     "execution_count": 63,
     "metadata": {},
     "output_type": "execute_result"
    }
   ],
   "source": [
    "#Training with the scaled data, without sampling\n",
    "rf_model2 =  RandomForestClassifier()\n",
    "rf_model2.fit(X_train_scaled, y_train)"
   ]
  },
  {
   "cell_type": "code",
   "execution_count": 64,
   "metadata": {
    "colab": {
     "base_uri": "https://localhost:8080/",
     "height": 1000
    },
    "executionInfo": {
     "elapsed": 4504,
     "status": "ok",
     "timestamp": 1621854956904,
     "user": {
      "displayName": "Emmanuel Orji",
      "photoUrl": "https://lh3.googleusercontent.com/a-/AOh14GiHodcbZ1prNPMGeqzrcKLfBSNzGtgLUz6EghK-XQ=s64",
      "userId": "04667333485712423080"
     },
     "user_tz": -60
    },
    "id": "MT8JuJH39p0z",
    "outputId": "b18f774f-dc02-40d2-f2a7-30e8a8bd73d1"
   },
   "outputs": [
    {
     "name": "stdout",
     "output_type": "stream",
     "text": [
      "Press 1 to save Model object and parameters to result_dict, any other key to cancel.\n",
      "Previous save with same model name is overwritten: 1\n",
      "\n",
      "--------------------------------Train Set-----------------------------------------\n",
      "                    precision    recall  f1-score   support\n",
      "\n",
      "   AscendingStairs       1.00      1.00      1.00        26\n",
      "ClimbingDownStairs       1.00      1.00      1.00        55\n",
      "  ClimbingUpStairs       1.00      1.00      1.00        96\n",
      "  DescendingStairs       1.00      1.00      1.00        11\n",
      "           Driving       1.00      1.00      1.00        12\n",
      "           Jogging       1.00      1.00      1.00        75\n",
      "             Lying       1.00      1.00      1.00       393\n",
      " MountainAscending       1.00      1.00      1.00         2\n",
      "MountainDescending       1.00      1.00      1.00        15\n",
      "           Running       1.00      1.00      1.00        18\n",
      "           Sitting       1.00      1.00      1.00      1196\n",
      "          Standing       1.00      1.00      1.00       306\n",
      "           Walking       1.00      1.00      1.00       991\n",
      "\n",
      "          accuracy                           1.00      3196\n",
      "         macro avg       1.00      1.00      1.00      3196\n",
      "      weighted avg       1.00      1.00      1.00      3196\n",
      "\n",
      "\n",
      "\n",
      "                        Train Confusion Matrix\n"
     ]
    },
    {
     "data": {
      "image/png": "[encoded data removed]",
      "text/plain": [
       "<Figure size 1440x720 with 1 Axes>"
      ]
     },
     "metadata": {
      "needs_background": "light"
     },
     "output_type": "display_data"
    },
    {
     "name": "stdout",
     "output_type": "stream",
     "text": [
      "\n",
      "--------------------------------Test Set------------------------------------------\n",
      "                    precision    recall  f1-score   support\n",
      "\n",
      "   AscendingStairs       1.00      0.08      0.14        13\n",
      "ClimbingDownStairs       0.95      0.69      0.80        29\n",
      "  ClimbingUpStairs       0.95      0.72      0.82        29\n",
      "  DescendingStairs       0.00      0.00      0.00         5\n",
      "           Driving       1.00      0.29      0.44         7\n",
      "           Jogging       0.97      0.95      0.96        40\n",
      "             Lying       0.98      0.98      0.98       173\n",
      "MountainDescending       1.00      0.50      0.67         4\n",
      "           Running       1.00      1.00      1.00         8\n",
      "           Sitting       0.98      0.97      0.98       486\n",
      "          Standing       0.85      0.95      0.89       138\n",
      "           Walking       0.94      0.99      0.96       438\n",
      "\n",
      "          accuracy                           0.95      1370\n",
      "         macro avg       0.88      0.68      0.72      1370\n",
      "      weighted avg       0.95      0.95      0.94      1370\n",
      "\n",
      "\n",
      "\n",
      "                          Test Confusion Matrix\n"
     ]
    },
    {
     "name": "stderr",
     "output_type": "stream",
     "text": [
      "/opt/anaconda3/lib/python3.7/site-packages/sklearn/metrics/_classification.py:1248: UndefinedMetricWarning: Precision and F-score are ill-defined and being set to 0.0 in labels with no predicted samples. Use `zero_division` parameter to control this behavior.\n",
      "  _warn_prf(average, modifier, msg_start, len(result))\n",
      "/opt/anaconda3/lib/python3.7/site-packages/sklearn/metrics/_classification.py:1248: UndefinedMetricWarning: Precision and F-score are ill-defined and being set to 0.0 in labels with no predicted samples. Use `zero_division` parameter to control this behavior.\n",
      "  _warn_prf(average, modifier, msg_start, len(result))\n",
      "/opt/anaconda3/lib/python3.7/site-packages/sklearn/metrics/_classification.py:1248: UndefinedMetricWarning: Precision and F-score are ill-defined and being set to 0.0 in labels with no predicted samples. Use `zero_division` parameter to control this behavior.\n",
      "  _warn_prf(average, modifier, msg_start, len(result))\n"
     ]
    },
    {
     "data": {
      "image/png": "[encoded data removed]",
      "text/plain": [
       "<Figure size 1440x720 with 1 Axes>"
      ]
     },
     "metadata": {
      "needs_background": "light"
     },
     "output_type": "display_data"
    }
   ],
   "source": [
    "model.result(rf_model2, 'Random Forest 2', X_train_scaled, X_test_scaled, y_train, y_test)"
   ]
  },
  {
   "cell_type": "code",
   "execution_count": 65,
   "metadata": {
    "colab": {
     "base_uri": "https://localhost:8080/"
    },
    "executionInfo": {
     "elapsed": 3631,
     "status": "ok",
     "timestamp": 1621854960527,
     "user": {
      "displayName": "Emmanuel Orji",
      "photoUrl": "https://lh3.googleusercontent.com/a-/AOh14GiHodcbZ1prNPMGeqzrcKLfBSNzGtgLUz6EghK-XQ=s64",
      "userId": "04667333485712423080"
     },
     "user_tz": -60
    },
    "id": "HLyWbpxq9p00",
    "outputId": "2fa4a354-61e6-4b45-ec35-f1b2ffcc7027"
   },
   "outputs": [
    {
     "data": {
      "text/plain": [
       "RandomForestClassifier()"
      ]
     },
     "execution_count": 65,
     "metadata": {},
     "output_type": "execute_result"
    }
   ],
   "source": [
    "rf_model3 =  RandomForestClassifier()\n",
    "rf_model3.fit(X_train, y_train)"
   ]
  },
  {
   "cell_type": "code",
   "execution_count": 66,
   "metadata": {
    "colab": {
     "base_uri": "https://localhost:8080/",
     "height": 1000
    },
    "executionInfo": {
     "elapsed": 4553,
     "status": "ok",
     "timestamp": 1621854964983,
     "user": {
      "displayName": "Emmanuel Orji",
      "photoUrl": "https://lh3.googleusercontent.com/a-/AOh14GiHodcbZ1prNPMGeqzrcKLfBSNzGtgLUz6EghK-XQ=s64",
      "userId": "04667333485712423080"
     },
     "user_tz": -60
    },
    "id": "Q3byNImp9p00",
    "outputId": "f785df6e-cc56-4fb0-becb-d83711472fff"
   },
   "outputs": [
    {
     "name": "stdout",
     "output_type": "stream",
     "text": [
      "Press 1 to save Model object and parameters to result_dict, any other key to cancel.\n",
      "Previous save with same model name is overwritten: 1\n",
      "\n",
      "--------------------------------Train Set-----------------------------------------\n",
      "                    precision    recall  f1-score   support\n",
      "\n",
      "   AscendingStairs       1.00      1.00      1.00        26\n",
      "ClimbingDownStairs       1.00      1.00      1.00        55\n",
      "  ClimbingUpStairs       1.00      1.00      1.00        96\n",
      "  DescendingStairs       1.00      1.00      1.00        11\n",
      "           Driving       1.00      1.00      1.00        12\n",
      "           Jogging       1.00      1.00      1.00        75\n",
      "             Lying       1.00      1.00      1.00       393\n",
      " MountainAscending       1.00      1.00      1.00         2\n",
      "MountainDescending       1.00      1.00      1.00        15\n",
      "           Running       1.00      1.00      1.00        18\n",
      "           Sitting       1.00      1.00      1.00      1196\n",
      "          Standing       1.00      1.00      1.00       306\n",
      "           Walking       1.00      1.00      1.00       991\n",
      "\n",
      "          accuracy                           1.00      3196\n",
      "         macro avg       1.00      1.00      1.00      3196\n",
      "      weighted avg       1.00      1.00      1.00      3196\n",
      "\n",
      "\n",
      "\n",
      "                        Train Confusion Matrix\n"
     ]
    },
    {
     "data": {
      "image/png": "[encoded data removed]",
      "text/plain": [
       "<Figure size 1440x720 with 1 Axes>"
      ]
     },
     "metadata": {
      "needs_background": "light"
     },
     "output_type": "display_data"
    },
    {
     "name": "stdout",
     "output_type": "stream",
     "text": [
      "\n",
      "--------------------------------Test Set------------------------------------------\n",
      "                    precision    recall  f1-score   support\n",
      "\n",
      "   AscendingStairs       1.00      0.15      0.27        13\n",
      "ClimbingDownStairs       1.00      0.62      0.77        29\n",
      "  ClimbingUpStairs       0.89      0.86      0.88        29\n",
      "  DescendingStairs       0.00      0.00      0.00         5\n",
      "           Driving       1.00      0.43      0.60         7\n",
      "           Jogging       0.95      0.97      0.96        40\n",
      "             Lying       0.97      0.98      0.97       173\n",
      "MountainDescending       1.00      0.25      0.40         4\n",
      "           Running       1.00      0.88      0.93         8\n",
      "           Sitting       0.98      0.97      0.97       486\n",
      "          Standing       0.87      0.96      0.91       138\n",
      "           Walking       0.94      0.99      0.96       438\n",
      "\n",
      "          accuracy                           0.95      1370\n",
      "         macro avg       0.88      0.67      0.72      1370\n",
      "      weighted avg       0.95      0.95      0.94      1370\n",
      "\n",
      "\n",
      "\n",
      "                          Test Confusion Matrix\n"
     ]
    },
    {
     "name": "stderr",
     "output_type": "stream",
     "text": [
      "/opt/anaconda3/lib/python3.7/site-packages/sklearn/metrics/_classification.py:1248: UndefinedMetricWarning: Precision and F-score are ill-defined and being set to 0.0 in labels with no predicted samples. Use `zero_division` parameter to control this behavior.\n",
      "  _warn_prf(average, modifier, msg_start, len(result))\n",
      "/opt/anaconda3/lib/python3.7/site-packages/sklearn/metrics/_classification.py:1248: UndefinedMetricWarning: Precision and F-score are ill-defined and being set to 0.0 in labels with no predicted samples. Use `zero_division` parameter to control this behavior.\n",
      "  _warn_prf(average, modifier, msg_start, len(result))\n",
      "/opt/anaconda3/lib/python3.7/site-packages/sklearn/metrics/_classification.py:1248: UndefinedMetricWarning: Precision and F-score are ill-defined and being set to 0.0 in labels with no predicted samples. Use `zero_division` parameter to control this behavior.\n",
      "  _warn_prf(average, modifier, msg_start, len(result))\n"
     ]
    },
    {
     "data": {
      "image/png": "[encoded data removed]",
      "text/plain": [
       "<Figure size 1440x720 with 1 Axes>"
      ]
     },
     "metadata": {
      "needs_background": "light"
     },
     "output_type": "display_data"
    }
   ],
   "source": [
    "model.result(rf_model3, 'Random Forest 3', X_train, X_test, y_train, y_test)"
   ]
  },
  {
   "cell_type": "markdown",
   "metadata": {
    "id": "17PMkThDXV2X"
   },
   "source": [
    "## KNN Model"
   ]
  },
  {
   "cell_type": "code",
   "execution_count": 67,
   "metadata": {
    "executionInfo": {
     "elapsed": 15,
     "status": "ok",
     "timestamp": 1621854964986,
     "user": {
      "displayName": "Emmanuel Orji",
      "photoUrl": "https://lh3.googleusercontent.com/a-/AOh14GiHodcbZ1prNPMGeqzrcKLfBSNzGtgLUz6EghK-XQ=s64",
      "userId": "04667333485712423080"
     },
     "user_tz": -60
    },
    "id": "ZT9YhyOlXVHj"
   },
   "outputs": [],
   "source": [
    "knn_model = KNeighborsClassifier()"
   ]
  },
  {
   "cell_type": "markdown",
   "metadata": {
    "id": "ciD8hvdiX4HG"
   },
   "source": [
    "### Evaluation of KNN using Leave_One_Out cross validation"
   ]
  },
  {
   "cell_type": "code",
   "execution_count": 68,
   "metadata": {
    "colab": {
     "base_uri": "https://localhost:8080/"
    },
    "executionInfo": {
     "elapsed": 10241,
     "status": "ok",
     "timestamp": 1621854975215,
     "user": {
      "displayName": "Emmanuel Orji",
      "photoUrl": "https://lh3.googleusercontent.com/a-/AOh14GiHodcbZ1prNPMGeqzrcKLfBSNzGtgLUz6EghK-XQ=s64",
      "userId": "04667333485712423080"
     },
     "user_tz": -60
    },
    "id": "LddjmYFiI1Px",
    "outputId": "f48a9cce-d78b-40da-9ab4-53b9cbec38d9"
   },
   "outputs": [
    {
     "name": "stdout",
     "output_type": "stream",
     "text": [
      "Accuracy: 98.96 %\n"
     ]
    }
   ],
   "source": [
    "from sklearn.model_selection import LeaveOneOut\n",
    "from sklearn.model_selection import cross_val_score\n",
    "\n",
    "#Using the sampled data\n",
    "scores = cross_val_score(knn_model, X_train_sampled, y_train_sampled, cv=10)\n",
    "print(\"Accuracy:\",round(scores.mean()*100,2),\"%\")"
   ]
  },
  {
   "cell_type": "code",
   "execution_count": 69,
   "metadata": {
    "colab": {
     "base_uri": "https://localhost:8080/"
    },
    "executionInfo": {
     "elapsed": 738,
     "status": "ok",
     "timestamp": 1621854975925,
     "user": {
      "displayName": "Emmanuel Orji",
      "photoUrl": "https://lh3.googleusercontent.com/a-/AOh14GiHodcbZ1prNPMGeqzrcKLfBSNzGtgLUz6EghK-XQ=s64",
      "userId": "04667333485712423080"
     },
     "user_tz": -60
    },
    "id": "cnjHHAkD5Q4a",
    "outputId": "ad705764-b8f6-4705-dea3-6db506c4ed9a"
   },
   "outputs": [
    {
     "data": {
      "text/plain": [
       "KNeighborsClassifier()"
      ]
     },
     "execution_count": 69,
     "metadata": {},
     "output_type": "execute_result"
    }
   ],
   "source": [
    "knn_model.fit(X_train_sampled, y_train_sampled)"
   ]
  },
  {
   "cell_type": "code",
   "execution_count": 70,
   "metadata": {
    "colab": {
     "base_uri": "https://localhost:8080/",
     "height": 1000
    },
    "executionInfo": {
     "elapsed": 12402,
     "status": "ok",
     "timestamp": 1621854988322,
     "user": {
      "displayName": "Emmanuel Orji",
      "photoUrl": "https://lh3.googleusercontent.com/a-/AOh14GiHodcbZ1prNPMGeqzrcKLfBSNzGtgLUz6EghK-XQ=s64",
      "userId": "04667333485712423080"
     },
     "user_tz": -60
    },
    "id": "PLw7u018Yq79",
    "outputId": "6714ae19-d00a-4913-afe3-115f4a927fb1"
   },
   "outputs": [
    {
     "name": "stdout",
     "output_type": "stream",
     "text": [
      "Press 1 to save Model object and parameters to result_dict, any other key to cancel.\n",
      "Previous save with same model name is overwritten: 1\n",
      "\n",
      "--------------------------------Train Set-----------------------------------------\n",
      "                    precision    recall  f1-score   support\n",
      "\n",
      "   AscendingStairs       1.00      1.00      1.00      1000\n",
      "ClimbingDownStairs       0.99      1.00      0.99      1000\n",
      "  ClimbingUpStairs       0.98      1.00      0.99      1000\n",
      "  DescendingStairs       1.00      1.00      1.00      1000\n",
      "           Driving       1.00      1.00      1.00      1000\n",
      "           Jogging       0.99      1.00      1.00      1000\n",
      "             Lying       1.00      1.00      1.00      1000\n",
      " MountainAscending       1.00      1.00      1.00      1000\n",
      "MountainDescending       1.00      1.00      1.00      1000\n",
      "           Running       1.00      1.00      1.00      1000\n",
      "           Sitting       1.00      0.96      0.98      1000\n",
      "          Standing       0.98      1.00      0.99      1000\n",
      "           Walking       1.00      0.96      0.98      1000\n",
      "\n",
      "          accuracy                           0.99     13000\n",
      "         macro avg       0.99      0.99      0.99     13000\n",
      "      weighted avg       0.99      0.99      0.99     13000\n",
      "\n",
      "\n",
      "\n",
      "                        Train Confusion Matrix\n"
     ]
    },
    {
     "data": {
      "image/png": "[encoded data removed]",
      "text/plain": [
       "<Figure size 1440x720 with 1 Axes>"
      ]
     },
     "metadata": {
      "needs_background": "light"
     },
     "output_type": "display_data"
    },
    {
     "name": "stdout",
     "output_type": "stream",
     "text": [
      "\n",
      "--------------------------------Test Set------------------------------------------\n",
      "                    precision    recall  f1-score   support\n",
      "\n",
      "   AscendingStairs       0.43      0.69      0.53        13\n",
      "ClimbingDownStairs       0.68      0.79      0.73        29\n",
      "  ClimbingUpStairs       0.77      0.79      0.78        29\n",
      "  DescendingStairs       0.50      0.80      0.62         5\n",
      "           Driving       0.67      0.57      0.62         7\n",
      "           Jogging       0.89      0.97      0.93        40\n",
      "             Lying       0.94      0.98      0.96       173\n",
      " MountainAscending       0.00      0.00      0.00         0\n",
      "MountainDescending       0.60      0.75      0.67         4\n",
      "           Running       1.00      1.00      1.00         8\n",
      "           Sitting       0.99      0.93      0.96       486\n",
      "          Standing       0.84      0.93      0.88       138\n",
      "           Walking       0.97      0.92      0.95       438\n",
      "\n",
      "          accuracy                           0.93      1370\n",
      "         macro avg       0.71      0.78      0.74      1370\n",
      "      weighted avg       0.94      0.93      0.93      1370\n",
      "\n",
      "\n",
      "\n",
      "                          Test Confusion Matrix\n"
     ]
    },
    {
     "name": "stderr",
     "output_type": "stream",
     "text": [
      "/opt/anaconda3/lib/python3.7/site-packages/sklearn/metrics/_classification.py:1248: UndefinedMetricWarning: Recall and F-score are ill-defined and being set to 0.0 in labels with no true samples. Use `zero_division` parameter to control this behavior.\n",
      "  _warn_prf(average, modifier, msg_start, len(result))\n",
      "/opt/anaconda3/lib/python3.7/site-packages/sklearn/metrics/_classification.py:1248: UndefinedMetricWarning: Recall and F-score are ill-defined and being set to 0.0 in labels with no true samples. Use `zero_division` parameter to control this behavior.\n",
      "  _warn_prf(average, modifier, msg_start, len(result))\n",
      "/opt/anaconda3/lib/python3.7/site-packages/sklearn/metrics/_classification.py:1248: UndefinedMetricWarning: Recall and F-score are ill-defined and being set to 0.0 in labels with no true samples. Use `zero_division` parameter to control this behavior.\n",
      "  _warn_prf(average, modifier, msg_start, len(result))\n",
      "/opt/anaconda3/lib/python3.7/site-packages/mlxtend/plotting/plot_confusion_matrix.py:76: RuntimeWarning: invalid value encountered in true_divide\n",
      "  normed_conf_mat = conf_mat.astype('float') / total_samples\n"
     ]
    },
    {
     "data": {
      "image/png": "[encoded data removed]",
      "text/plain": [
       "<Figure size 1440x720 with 1 Axes>"
      ]
     },
     "metadata": {
      "needs_background": "light"
     },
     "output_type": "display_data"
    }
   ],
   "source": [
    "model.result(knn_model, 'KNN Model 1', X_train_sampled, X_test_scaled, y_train_sampled, y_test)"
   ]
  },
  {
   "cell_type": "code",
   "execution_count": 71,
   "metadata": {
    "colab": {
     "base_uri": "https://localhost:8080/"
    },
    "executionInfo": {
     "elapsed": 648,
     "status": "ok",
     "timestamp": 1621854988961,
     "user": {
      "displayName": "Emmanuel Orji",
      "photoUrl": "https://lh3.googleusercontent.com/a-/AOh14GiHodcbZ1prNPMGeqzrcKLfBSNzGtgLUz6EghK-XQ=s64",
      "userId": "04667333485712423080"
     },
     "user_tz": -60
    },
    "id": "z_4OUd7H6PJi",
    "outputId": "d7a83b33-0c4b-4775-9951-4905da2e0823"
   },
   "outputs": [
    {
     "data": {
      "text/plain": [
       "KNeighborsClassifier()"
      ]
     },
     "execution_count": 71,
     "metadata": {},
     "output_type": "execute_result"
    }
   ],
   "source": [
    "#Training with the scaled data, without sampling\n",
    "knn_model2 =  KNeighborsClassifier()\n",
    "knn_model2.fit(X_train_scaled, y_train)"
   ]
  },
  {
   "cell_type": "code",
   "execution_count": 72,
   "metadata": {
    "colab": {
     "base_uri": "https://localhost:8080/",
     "height": 1000
    },
    "executionInfo": {
     "elapsed": 6626,
     "status": "ok",
     "timestamp": 1621854995580,
     "user": {
      "displayName": "Emmanuel Orji",
      "photoUrl": "https://lh3.googleusercontent.com/a-/AOh14GiHodcbZ1prNPMGeqzrcKLfBSNzGtgLUz6EghK-XQ=s64",
      "userId": "04667333485712423080"
     },
     "user_tz": -60
    },
    "id": "YjB7eAvo6QwN",
    "outputId": "a4c07063-2b53-485b-ed8e-e891a368636f"
   },
   "outputs": [
    {
     "name": "stdout",
     "output_type": "stream",
     "text": [
      "Press 1 to save Model object and parameters to result_dict, any other key to cancel.\n",
      "Previous save with same model name is overwritten: 1\n",
      "\n",
      "--------------------------------Train Set-----------------------------------------\n",
      "                    precision    recall  f1-score   support\n",
      "\n",
      "   AscendingStairs       1.00      0.58      0.73        26\n",
      "ClimbingDownStairs       0.81      0.76      0.79        55\n",
      "  ClimbingUpStairs       0.80      0.82      0.81        96\n",
      "  DescendingStairs       1.00      0.55      0.71        11\n",
      "           Driving       0.73      0.67      0.70        12\n",
      "           Jogging       0.97      0.97      0.97        75\n",
      "             Lying       0.96      0.98      0.97       393\n",
      " MountainAscending       0.00      0.00      0.00         2\n",
      "MountainDescending       1.00      0.80      0.89        15\n",
      "           Running       1.00      0.94      0.97        18\n",
      "           Sitting       0.98      0.98      0.98      1196\n",
      "          Standing       0.94      0.93      0.94       306\n",
      "           Walking       0.96      0.98      0.97       991\n",
      "\n",
      "          accuracy                           0.96      3196\n",
      "         macro avg       0.86      0.77      0.80      3196\n",
      "      weighted avg       0.96      0.96      0.96      3196\n",
      "\n",
      "\n",
      "\n",
      "                        Train Confusion Matrix\n"
     ]
    },
    {
     "name": "stderr",
     "output_type": "stream",
     "text": [
      "/opt/anaconda3/lib/python3.7/site-packages/sklearn/metrics/_classification.py:1248: UndefinedMetricWarning: Precision and F-score are ill-defined and being set to 0.0 in labels with no predicted samples. Use `zero_division` parameter to control this behavior.\n",
      "  _warn_prf(average, modifier, msg_start, len(result))\n",
      "/opt/anaconda3/lib/python3.7/site-packages/sklearn/metrics/_classification.py:1248: UndefinedMetricWarning: Precision and F-score are ill-defined and being set to 0.0 in labels with no predicted samples. Use `zero_division` parameter to control this behavior.\n",
      "  _warn_prf(average, modifier, msg_start, len(result))\n",
      "/opt/anaconda3/lib/python3.7/site-packages/sklearn/metrics/_classification.py:1248: UndefinedMetricWarning: Precision and F-score are ill-defined and being set to 0.0 in labels with no predicted samples. Use `zero_division` parameter to control this behavior.\n",
      "  _warn_prf(average, modifier, msg_start, len(result))\n"
     ]
    },
    {
     "data": {
      "image/png": "[encoded data removed]",
      "text/plain": [
       "<Figure size 1440x720 with 1 Axes>"
      ]
     },
     "metadata": {
      "needs_background": "light"
     },
     "output_type": "display_data"
    },
    {
     "name": "stdout",
     "output_type": "stream",
     "text": [
      "\n",
      "--------------------------------Test Set------------------------------------------\n",
      "                    precision    recall  f1-score   support\n",
      "\n",
      "   AscendingStairs       0.67      0.31      0.42        13\n",
      "ClimbingDownStairs       0.65      0.59      0.62        29\n",
      "  ClimbingUpStairs       0.70      0.66      0.68        29\n",
      "  DescendingStairs       0.75      0.60      0.67         5\n",
      "           Driving       0.67      0.29      0.40         7\n",
      "           Jogging       1.00      0.97      0.99        40\n",
      "             Lying       0.93      0.97      0.95       173\n",
      "MountainDescending       1.00      0.50      0.67         4\n",
      "           Running       1.00      1.00      1.00         8\n",
      "           Sitting       0.96      0.95      0.96       486\n",
      "          Standing       0.86      0.86      0.86       138\n",
      "           Walking       0.94      0.99      0.96       438\n",
      "\n",
      "          accuracy                           0.93      1370\n",
      "         macro avg       0.84      0.72      0.76      1370\n",
      "      weighted avg       0.93      0.93      0.93      1370\n",
      "\n",
      "\n",
      "\n",
      "                          Test Confusion Matrix\n"
     ]
    },
    {
     "data": {
      "image/png": "[encoded data removed]",
      "text/plain": [
       "<Figure size 1440x720 with 1 Axes>"
      ]
     },
     "metadata": {
      "needs_background": "light"
     },
     "output_type": "display_data"
    }
   ],
   "source": [
    "model.result(knn_model2, 'KNN Model 2', X_train_scaled, X_test_scaled, y_train, y_test)"
   ]
  },
  {
   "cell_type": "code",
   "execution_count": 73,
   "metadata": {
    "colab": {
     "base_uri": "https://localhost:8080/"
    },
    "executionInfo": {
     "elapsed": 13,
     "status": "ok",
     "timestamp": 1621854995583,
     "user": {
      "displayName": "Emmanuel Orji",
      "photoUrl": "https://lh3.googleusercontent.com/a-/AOh14GiHodcbZ1prNPMGeqzrcKLfBSNzGtgLUz6EghK-XQ=s64",
      "userId": "04667333485712423080"
     },
     "user_tz": -60
    },
    "id": "tUjdYPNM56RN",
    "outputId": "0efe5ef0-94e8-445f-bebb-d313a6fc03df"
   },
   "outputs": [
    {
     "data": {
      "text/plain": [
       "KNeighborsClassifier()"
      ]
     },
     "execution_count": 73,
     "metadata": {},
     "output_type": "execute_result"
    }
   ],
   "source": [
    "#Using unsampled and unscaled data\n",
    "knn_model3 =  KNeighborsClassifier()\n",
    "knn_model3.fit(X_train, y_train)"
   ]
  },
  {
   "cell_type": "code",
   "execution_count": 74,
   "metadata": {
    "colab": {
     "base_uri": "https://localhost:8080/",
     "height": 1000
    },
    "executionInfo": {
     "elapsed": 5480,
     "status": "ok",
     "timestamp": 1621855001055,
     "user": {
      "displayName": "Emmanuel Orji",
      "photoUrl": "https://lh3.googleusercontent.com/a-/AOh14GiHodcbZ1prNPMGeqzrcKLfBSNzGtgLUz6EghK-XQ=s64",
      "userId": "04667333485712423080"
     },
     "user_tz": -60
    },
    "id": "QBlY8LuX7I26",
    "outputId": "4ffe0dfe-7d9d-4ac9-9505-bb3d53385263"
   },
   "outputs": [
    {
     "name": "stdout",
     "output_type": "stream",
     "text": [
      "Press 1 to save Model object and parameters to result_dict, any other key to cancel.\n",
      "Previous save with same model name is overwritten: 1\n",
      "\n",
      "--------------------------------Train Set-----------------------------------------\n",
      "                    precision    recall  f1-score   support\n",
      "\n",
      "   AscendingStairs       0.44      0.15      0.23        26\n",
      "ClimbingDownStairs       0.42      0.45      0.43        55\n",
      "  ClimbingUpStairs       0.61      0.65      0.63        96\n",
      "  DescendingStairs       0.33      0.36      0.35        11\n",
      "           Driving       0.62      0.42      0.50        12\n",
      "           Jogging       0.80      0.87      0.83        75\n",
      "             Lying       0.86      0.81      0.83       393\n",
      " MountainAscending       0.00      0.00      0.00         2\n",
      "MountainDescending       0.56      0.33      0.42        15\n",
      "           Running       0.89      0.89      0.89        18\n",
      "           Sitting       0.91      0.92      0.92      1196\n",
      "          Standing       0.80      0.72      0.76       306\n",
      "           Walking       0.90      0.94      0.92       991\n",
      "\n",
      "          accuracy                           0.86      3196\n",
      "         macro avg       0.63      0.58      0.59      3196\n",
      "      weighted avg       0.86      0.86      0.86      3196\n",
      "\n",
      "\n",
      "\n",
      "                        Train Confusion Matrix\n"
     ]
    },
    {
     "name": "stderr",
     "output_type": "stream",
     "text": [
      "/opt/anaconda3/lib/python3.7/site-packages/sklearn/metrics/_classification.py:1248: UndefinedMetricWarning: Precision and F-score are ill-defined and being set to 0.0 in labels with no predicted samples. Use `zero_division` parameter to control this behavior.\n",
      "  _warn_prf(average, modifier, msg_start, len(result))\n",
      "/opt/anaconda3/lib/python3.7/site-packages/sklearn/metrics/_classification.py:1248: UndefinedMetricWarning: Precision and F-score are ill-defined and being set to 0.0 in labels with no predicted samples. Use `zero_division` parameter to control this behavior.\n",
      "  _warn_prf(average, modifier, msg_start, len(result))\n",
      "/opt/anaconda3/lib/python3.7/site-packages/sklearn/metrics/_classification.py:1248: UndefinedMetricWarning: Precision and F-score are ill-defined and being set to 0.0 in labels with no predicted samples. Use `zero_division` parameter to control this behavior.\n",
      "  _warn_prf(average, modifier, msg_start, len(result))\n"
     ]
    },
    {
     "data": {
      "image/png": "[encoded data removed]",
      "text/plain": [
       "<Figure size 1440x720 with 1 Axes>"
      ]
     },
     "metadata": {
      "needs_background": "light"
     },
     "output_type": "display_data"
    },
    {
     "name": "stdout",
     "output_type": "stream",
     "text": [
      "\n",
      "--------------------------------Test Set------------------------------------------\n",
      "                    precision    recall  f1-score   support\n",
      "\n",
      "   AscendingStairs       0.00      0.00      0.00        13\n",
      "ClimbingDownStairs       0.24      0.21      0.22        29\n",
      "  ClimbingUpStairs       0.16      0.24      0.19        29\n",
      "  DescendingStairs       0.00      0.00      0.00         5\n",
      "           Driving       0.33      0.14      0.20         7\n",
      "           Jogging       0.76      0.93      0.83        40\n",
      "             Lying       0.76      0.72      0.74       173\n",
      "MountainDescending       0.00      0.00      0.00         4\n",
      "           Running       0.86      0.75      0.80         8\n",
      "           Sitting       0.86      0.87      0.86       486\n",
      "          Standing       0.65      0.51      0.57       138\n",
      "           Walking       0.85      0.91      0.88       438\n",
      "\n",
      "          accuracy                           0.78      1370\n",
      "         macro avg       0.45      0.44      0.44      1370\n",
      "      weighted avg       0.77      0.78      0.78      1370\n",
      "\n",
      "\n",
      "\n",
      "                          Test Confusion Matrix\n"
     ]
    },
    {
     "name": "stderr",
     "output_type": "stream",
     "text": [
      "/opt/anaconda3/lib/python3.7/site-packages/sklearn/metrics/_classification.py:1248: UndefinedMetricWarning: Precision and F-score are ill-defined and being set to 0.0 in labels with no predicted samples. Use `zero_division` parameter to control this behavior.\n",
      "  _warn_prf(average, modifier, msg_start, len(result))\n",
      "/opt/anaconda3/lib/python3.7/site-packages/sklearn/metrics/_classification.py:1248: UndefinedMetricWarning: Precision and F-score are ill-defined and being set to 0.0 in labels with no predicted samples. Use `zero_division` parameter to control this behavior.\n",
      "  _warn_prf(average, modifier, msg_start, len(result))\n",
      "/opt/anaconda3/lib/python3.7/site-packages/sklearn/metrics/_classification.py:1248: UndefinedMetricWarning: Precision and F-score are ill-defined and being set to 0.0 in labels with no predicted samples. Use `zero_division` parameter to control this behavior.\n",
      "  _warn_prf(average, modifier, msg_start, len(result))\n"
     ]
    },
    {
     "data": {
      "image/png": "[encoded data removed]",
      "text/plain": [
       "<Figure size 1440x720 with 1 Axes>"
      ]
     },
     "metadata": {
      "needs_background": "light"
     },
     "output_type": "display_data"
    }
   ],
   "source": [
    "model.result(knn_model3, 'KNN Model 3', X_train, X_test, y_train, y_test)"
   ]
  },
  {
   "cell_type": "code",
   "execution_count": 45,
   "metadata": {
    "colab": {
     "base_uri": "https://localhost:8080/",
     "height": 111
    },
    "executionInfo": {
     "elapsed": 40,
     "status": "ok",
     "timestamp": 1621855001058,
     "user": {
      "displayName": "Emmanuel Orji",
      "photoUrl": "https://lh3.googleusercontent.com/a-/AOh14GiHodcbZ1prNPMGeqzrcKLfBSNzGtgLUz6EghK-XQ=s64",
      "userId": "04667333485712423080"
     },
     "user_tz": -60
    },
    "id": "QlnYHsiKhChW",
    "outputId": "4e1fd3df-0190-4889-f9c8-bdaa72010d15"
   },
   "outputs": [
    {
     "data": {
      "text/html": [
       "<div>\n",
       "<style scoped>\n",
       "    .dataframe tbody tr th:only-of-type {\n",
       "        vertical-align: middle;\n",
       "    }\n",
       "\n",
       "    .dataframe tbody tr th {\n",
       "        vertical-align: top;\n",
       "    }\n",
       "\n",
       "    .dataframe thead th {\n",
       "        text-align: right;\n",
       "    }\n",
       "</style>\n",
       "<table border=\"1\" class=\"dataframe\">\n",
       "  <thead>\n",
       "    <tr style=\"text-align: right;\">\n",
       "      <th></th>\n",
       "      <th>Log. Reg. 1</th>\n",
       "      <th>Log. Reg. 2</th>\n",
       "      <th>Log. Reg. 3</th>\n",
       "      <th>Random Forest 1</th>\n",
       "      <th>Random Forest 2</th>\n",
       "      <th>Random Forest 3</th>\n",
       "      <th>KNN Model 1</th>\n",
       "      <th>KNN Model 2</th>\n",
       "      <th>KNN Model 3</th>\n",
       "    </tr>\n",
       "  </thead>\n",
       "  <tbody>\n",
       "    <tr>\n",
       "      <th>Train</th>\n",
       "      <td>0.949846</td>\n",
       "      <td>0.893930</td>\n",
       "      <td>0.310701</td>\n",
       "      <td>1.000000</td>\n",
       "      <td>1.000000</td>\n",
       "      <td>1.000000</td>\n",
       "      <td>0.993923</td>\n",
       "      <td>0.959637</td>\n",
       "      <td>0.864205</td>\n",
       "    </tr>\n",
       "    <tr>\n",
       "      <th>Test</th>\n",
       "      <td>0.843796</td>\n",
       "      <td>0.889051</td>\n",
       "      <td>0.319708</td>\n",
       "      <td>0.943796</td>\n",
       "      <td>0.951095</td>\n",
       "      <td>0.947445</td>\n",
       "      <td>0.921168</td>\n",
       "      <td>0.929927</td>\n",
       "      <td>0.781752</td>\n",
       "    </tr>\n",
       "  </tbody>\n",
       "</table>\n",
       "</div>"
      ],
      "text/plain": [
       "       Log. Reg. 1  Log. Reg. 2  ...  KNN Model 2  KNN Model 3\n",
       "Train     0.949846     0.893930  ...     0.959637     0.864205\n",
       "Test      0.843796     0.889051  ...     0.929927     0.781752\n",
       "\n",
       "[2 rows x 9 columns]"
      ]
     },
     "execution_count": 45,
     "metadata": {
      "tags": []
     },
     "output_type": "execute_result"
    }
   ],
   "source": [
    "#DataFrame Summary of models\n",
    "pd.DataFrame(model.result_dict['Accuracy Score'])"
   ]
  },
  {
   "cell_type": "code",
   "execution_count": 46,
   "metadata": {
    "colab": {
     "base_uri": "https://localhost:8080/"
    },
    "executionInfo": {
     "elapsed": 39,
     "status": "ok",
     "timestamp": 1621855001060,
     "user": {
      "displayName": "Emmanuel Orji",
      "photoUrl": "https://lh3.googleusercontent.com/a-/AOh14GiHodcbZ1prNPMGeqzrcKLfBSNzGtgLUz6EghK-XQ=s64",
      "userId": "04667333485712423080"
     },
     "user_tz": -60
    },
    "id": "wwqXS4PThChW",
    "outputId": "8dd67b91-7674-4b56-bd6e-03d8e33f5a20"
   },
   "outputs": [
    {
     "data": {
      "text/plain": [
       "dict_keys(['Accuracy Score', 'Model Objects', 'Parameters', 'Predictions', 'Datasets'])"
      ]
     },
     "execution_count": 46,
     "metadata": {
      "tags": []
     },
     "output_type": "execute_result"
    }
   ],
   "source": [
    "model.result_dict.keys()"
   ]
  },
  {
   "cell_type": "code",
   "execution_count": 47,
   "metadata": {
    "executionInfo": {
     "elapsed": 1346,
     "status": "ok",
     "timestamp": 1621855002376,
     "user": {
      "displayName": "Emmanuel Orji",
      "photoUrl": "https://lh3.googleusercontent.com/a-/AOh14GiHodcbZ1prNPMGeqzrcKLfBSNzGtgLUz6EghK-XQ=s64",
      "userId": "04667333485712423080"
     },
     "user_tz": -60
    },
    "id": "g0ZUFM_WhChX"
   },
   "outputs": [],
   "source": [
    "pickle.dump(model.result_dict, open('result.p', 'wb'))"
   ]
  },
  {
   "cell_type": "code",
   "execution_count": 48,
   "metadata": {
    "executionInfo": {
     "elapsed": 30,
     "status": "ok",
     "timestamp": 1621855002380,
     "user": {
      "displayName": "Emmanuel Orji",
      "photoUrl": "https://lh3.googleusercontent.com/a-/AOh14GiHodcbZ1prNPMGeqzrcKLfBSNzGtgLUz6EghK-XQ=s64",
      "userId": "04667333485712423080"
     },
     "user_tz": -60
    },
    "id": "pnVIJsZt-4YX"
   },
   "outputs": [],
   "source": [
    "#Uncomment to read result.p into model.result_dict\n",
    "#model.result_dict = pickle.load(open('result.p', 'rb'))"
   ]
  },
  {
   "cell_type": "code",
   "execution_count": 49,
   "metadata": {
    "colab": {
     "base_uri": "https://localhost:8080/",
     "height": 513
    },
    "executionInfo": {
     "elapsed": 32,
     "status": "ok",
     "timestamp": 1621855002383,
     "user": {
      "displayName": "Emmanuel Orji",
      "photoUrl": "https://lh3.googleusercontent.com/a-/AOh14GiHodcbZ1prNPMGeqzrcKLfBSNzGtgLUz6EghK-XQ=s64",
      "userId": "04667333485712423080"
     },
     "user_tz": -60
    },
    "id": "vEMWbX6zhChY",
    "outputId": "6f55d0d6-7197-42f9-ac2a-ef9e5a23513f"
   },
   "outputs": [
    {
     "data": {
      "image/png": "[encoded data removed]",
      "text/plain": [
       "<Figure size 720x576 with 1 Axes>"
      ]
     },
     "metadata": {
      "needs_background": "light",
      "tags": []
     },
     "output_type": "display_data"
    }
   ],
   "source": [
    "model.plot_evaluations()\n",
    "#1: Model trained with scaled and sampled data\n",
    "#2: Model trained with the scaled data, without sampling\n",
    "#3: Model trained with unscaled and unsampled data"
   ]
  },
  {
   "cell_type": "code",
   "execution_count": 49,
   "metadata": {
    "executionInfo": {
     "elapsed": 33,
     "status": "ok",
     "timestamp": 1621855002386,
     "user": {
      "displayName": "Emmanuel Orji",
      "photoUrl": "https://lh3.googleusercontent.com/a-/AOh14GiHodcbZ1prNPMGeqzrcKLfBSNzGtgLUz6EghK-XQ=s64",
      "userId": "04667333485712423080"
     },
     "user_tz": -60
    },
    "id": "KX2-lhQghChY"
   },
   "outputs": [],
   "source": []
  }
 ],
 "metadata": {
  "colab": {
   "collapsed_sections": [],
   "name": "Main.ipynb",
   "provenance": []
  },
  "kernelspec": {
   "display_name": "Python 3",
   "language": "python",
   "name": "python3"
  },
  "language_info": {
   "codemirror_mode": {
    "name": "ipython",
    "version": 3
   },
   "file_extension": ".py",
   "mimetype": "text/x-python",
   "name": "python",
   "nbconvert_exporter": "python",
   "pygments_lexer": "ipython3",
   "version": "3.7.6"
  }
 },
 "nbformat": 4,
 "nbformat_minor": 1
}
